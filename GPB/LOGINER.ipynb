{
 "cells": [
  {
   "cell_type": "code",
   "execution_count": 7,
   "metadata": {},
   "outputs": [],
   "source": [
    "import pyautogui\n",
    "from datetime import datetime, date, time\n",
    "import time\n",
    "\n",
    "\n",
    "def loginer():\n",
    "    pyautogui.FAILSAFE = True\n",
    "    pyautogui.moveTo (950, 1050, duration = 1)\n",
    "    pyautogui.PAUSE = 10\n",
    "    pyautogui.click(button='left')\n",
    "    pyautogui.moveTo (950, 510, duration = 0)\n",
    "    #pyautogui.PAUSE = 1\n",
    "    pyautogui.click(button='left')\n",
    "    pyautogui.typewrite ('gpbu12883')\n",
    "\n",
    "    pyautogui.moveTo (950, 560, duration = 0)\n",
    "    #pyautogui.PAUSE = 1\n",
    "    pyautogui.click(button='left')\n",
    "    pyautogui.typewrite ('brn_IDN_IDN_521')\n",
    "\n",
    "    pyautogui.moveTo (950, 610, duration = 0)\n",
    "    #pyautogui.PAUSE = 1\n",
    "    pyautogui.click(button='left')\n",
    "    pyautogui.typewrite ('1234')\n",
    "\n",
    "    pyautogui.moveTo (950, 690, duration = 0)\n",
    "\n",
    "\n",
    "while datetime.now().time().strftime('%M') != '54':\n",
    "    print(1)\n",
    "    time.sleep(1)\n",
    "else:\n",
    "    loginer()"
   ]
  }
 ],
 "metadata": {
  "kernelspec": {
   "display_name": "Python 3",
   "language": "python",
   "name": "python3"
  },
  "language_info": {
   "codemirror_mode": {
    "name": "ipython",
    "version": 3
   },
   "file_extension": ".py",
   "mimetype": "text/x-python",
   "name": "python",
   "nbconvert_exporter": "python",
   "pygments_lexer": "ipython3",
   "version": "3.7.6"
  }
 },
 "nbformat": 4,
 "nbformat_minor": 4
}
