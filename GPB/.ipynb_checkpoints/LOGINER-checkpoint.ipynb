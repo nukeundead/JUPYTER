{
 "cells": [
  {
   "cell_type": "code",
   "execution_count": 6,
   "metadata": {},
   "outputs": [
    {
     "name": "stdout",
     "output_type": "stream",
     "text": [
      "1\n",
      "1\n",
      "1\n",
      "1\n",
      "1\n",
      "1\n",
      "1\n",
      "1\n",
      "1\n",
      "1\n",
      "1\n",
      "1\n",
      "1\n",
      "1\n",
      "1\n",
      "1\n",
      "1\n",
      "1\n",
      "1\n",
      "1\n",
      "1\n",
      "1\n",
      "1\n",
      "1\n",
      "1\n",
      "1\n",
      "1\n"
     ]
    }
   ],
   "source": [
    "import pyautogui\n",
    "from datetime import datetime, date, time\n",
    "import time\n",
    "\n",
    "\n",
    "def loginer():\n",
    "    pyautogui.FAILSAFE = True\n",
    "    pyautogui.moveTo (950, 1050, duration = 1)\n",
    "    pyautogui.PAUSE = 10\n",
    "    pyautogui.click(button='left')\n",
    "    pyautogui.moveTo (950, 510, duration = 0)\n",
    "    #pyautogui.PAUSE = 1\n",
    "    pyautogui.click(button='left')\n",
    "    pyautogui.typewrite ('gpbu12883')\n",
    "\n",
    "    pyautogui.moveTo (950, 560, duration = 0)\n",
    "    #pyautogui.PAUSE = 1\n",
    "    pyautogui.click(button='left')\n",
    "    pyautogui.typewrite ('brn_IDN_IDN_521')\n",
    "\n",
    "    pyautogui.moveTo (950, 610, duration = 0)\n",
    "    #pyautogui.PAUSE = 1\n",
    "    pyautogui.click(button='left')\n",
    "    pyautogui.typewrite ('1234')\n",
    "\n",
    "    pyautogui.moveTo (950, 690, duration = 0)\n",
    "\n",
    "\n",
    "while datetime.now().time().strftime('%M') != '52':\n",
    "    print(1)\n",
    "    time.sleep(1)\n",
    "else:\n",
    "    loginer()"
   ]
  },
  {
   "cell_type": "code",
   "execution_count": null,
   "metadata": {},
   "outputs": [],
   "source": []
  }
 ],
 "metadata": {
  "kernelspec": {
   "display_name": "Python 3",
   "language": "python",
   "name": "python3"
  },
  "language_info": {
   "codemirror_mode": {
    "name": "ipython",
    "version": 3
   },
   "file_extension": ".py",
   "mimetype": "text/x-python",
   "name": "python",
   "nbconvert_exporter": "python",
   "pygments_lexer": "ipython3",
   "version": "3.7.6"
  }
 },
 "nbformat": 4,
 "nbformat_minor": 4
}
