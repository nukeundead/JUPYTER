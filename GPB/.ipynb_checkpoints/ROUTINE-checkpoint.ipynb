{
 "cells": [
  {
   "cell_type": "code",
   "execution_count": null,
   "metadata": {},
   "outputs": [],
   "source": [
    "import pyautogui\n",
    "import random\n",
    "\n",
    "pyautogui.FAILSAFE = True\n",
    "\n",
    "pyautogui.moveTo (1150, 1070, duration = 1)\n",
    "pyautogui.PAUSE = 1\n",
    "pyautogui.click(button='left')\n",
    "pyautogui.PAUSE = 1\n",
    "pyautogui.moveTo (1900, 1000, duration = 1)\n",
    "\n",
    "term = 0\n",
    "while term < 1:\n",
    "    pyautogui.PAUSE = 0.1\n",
    "    pyautogui.moveTo (random.randint(0, 1900), random.randint(0, 1000), duration = 2)\n",
    "    pyautogui.scroll(random.randint(0, 20)*-1)"
   ]
  },
  {
   "cell_type": "code",
   "execution_count": null,
   "metadata": {},
   "outputs": [],
   "source": []
  },
  {
   "cell_type": "code",
   "execution_count": null,
   "metadata": {},
   "outputs": [],
   "source": []
  }
 ],
 "metadata": {
  "kernelspec": {
   "display_name": "Python 3",
   "language": "python",
   "name": "python3"
  },
  "language_info": {
   "codemirror_mode": {
    "name": "ipython",
    "version": 3
   },
   "file_extension": ".py",
   "mimetype": "text/x-python",
   "name": "python",
   "nbconvert_exporter": "python",
   "pygments_lexer": "ipython3",
   "version": "3.7.6"
  }
 },
 "nbformat": 4,
 "nbformat_minor": 4
}
