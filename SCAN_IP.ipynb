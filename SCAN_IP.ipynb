{
 "cells": [
  {
   "cell_type": "code",
   "execution_count": 1,
   "metadata": {},
   "outputs": [],
   "source": [
    "import os\n",
    "import platform\n",
    "import threading\n",
    "import socket\n",
    "from datetime import datetime"
   ]
  },
  {
   "cell_type": "code",
   "execution_count": 2,
   "metadata": {},
   "outputs": [],
   "source": [
    "import smtplib                                                                                                          # Импортируем библиотеку по работе с SMTP\n",
    "import os                                                                                                               # Функции для работы с операционной системой, не зависящие от используемой операционной системы\n",
    "from datetime import *\n",
    "import sys\n",
    "# Добавляем необходимые подклассы - MIME-типы\n",
    "import mimetypes                                                                                                        # Импорт класса для обработки неизвестных MIME-типов, базирующихся на расширении файла\n",
    "from email import encoders                                                                                              # Импортируем энкодер\n",
    "from email.mime.base import MIMEBase                                                                                    # Общий тип\n",
    "from email.mime.text import MIMEText                                                                                    # Текст/HTML\n",
    "from email.mime.image import MIMEImage                                                                                  # Изображения\n",
    "from email.mime.audio import MIMEAudio                                                                                  # Аудио\n",
    "from email.mime.multipart import MIMEMultipart                                                                          # Многокомпонентный объект"
   ]
  },
  {
   "cell_type": "code",
   "execution_count": 3,
   "metadata": {},
   "outputs": [],
   "source": [
    "global strin\n",
    "strin = []"
   ]
  },
  {
   "cell_type": "code",
   "execution_count": 4,
   "metadata": {},
   "outputs": [],
   "source": [
    "def send_email(addr_to, msg_subj, msg_text):\n",
    "    addr_from = \"nivensky@yandex.ru\"                                                                                    # Отправитель\n",
    "    password  = \"brn_YANDEX_101513\"                                                                                        # Пароль\n",
    "\n",
    "    msg = MIMEMultipart()                                                                                               # Создаем сообщение\n",
    "    msg['From']    = addr_from                                                                                          # Адресат\n",
    "    msg['To']      = addr_to                                                                                            # Получатель\n",
    "    msg['Subject'] = msg_subj                                                                                           # Тема сообщения\n",
    "\n",
    "    body = msg_text                                                                                                     # Текст сообщения\n",
    "    msg.attach(MIMEText(body, 'plain'))                                                                                 # Добавляем в сообщение текст\n",
    "\n",
    "    server = smtplib.SMTP('smtp.yandex.ru', 587)                                                                        # Создаем объект SMTP\n",
    "    server.starttls()                                                                                                   # Начинаем шифрованный обмен по TLS\n",
    "    server.login(addr_from, password)                                                                                   # Получаем доступ\n",
    "    server.send_message(msg)                                                                                            # Отправляем сообщение\n",
    "    server.quit()                                                                                                       # Выходим"
   ]
  },
  {
   "cell_type": "code",
   "execution_count": 5,
   "metadata": {},
   "outputs": [],
   "source": [
    "addr_to   = \"nivensky@yandex.ru\"                                                                                        # Получатель\n",
    "addr_to   = \"nivensky@yandex.ru\"                                                                                  # Получатель\n",
    "msg_subj = 'ЖЕНА!!!'\n",
    "msg_text = 'ЖЕНА!!!'"
   ]
  },
  {
   "cell_type": "code",
   "execution_count": 6,
   "metadata": {},
   "outputs": [],
   "source": [
    "def getMyIp():\n",
    "    s = socket.socket(socket.AF_INET, socket.SOCK_DGRAM) #Создаем сокет (UDP)\n",
    "    s.setsockopt(socket.SOL_SOCKET, socket.SO_BROADCAST, 1) # Настраиваем сокет на BROADCAST вещание.\n",
    "    s.connect(('<broadcast>', 0))\n",
    "    return s.getsockname()[0]"
   ]
  },
  {
   "cell_type": "code",
   "execution_count": 7,
   "metadata": {},
   "outputs": [],
   "source": [
    "def scan_Ip(ip):\n",
    "    addr = net + str(ip)\n",
    "    comm = ping_com + addr\n",
    "    response = os.popen(comm)\n",
    "    data = response.readlines()\n",
    "    name = data[1].split(' ')\n",
    "    for line in data:\n",
    "        if 'TTL' in line:\n",
    "            response_art = os.popen('arp -a')\n",
    "            data_arp = response_art.readlines()\n",
    "            for line_arp in data_arp:\n",
    "                flag = line_arp.split()\n",
    "                if len(flag) > 0 and flag[0] == addr:\n",
    "                    tmp =(addr+\"--> Ping Ok\"+ '    '+ name[3]+'    '+flag[1])\n",
    "                    if flag[1] == 'f0-99-b6-39-b6-36':\n",
    "                        send_email(addr_to, msg_subj, msg_text)\n",
    "                    strin.append(tmp)\n",
    "            break"
   ]
  },
  {
   "cell_type": "code",
   "execution_count": 8,
   "metadata": {},
   "outputs": [
    {
     "name": "stdout",
     "output_type": "stream",
     "text": [
      "You IP : 192.168.1.68\n"
     ]
    }
   ],
   "source": [
    "net = getMyIp()\n",
    "print('You IP :',net)\n",
    "net_split = net.split('.')\n",
    "a = '.'\n",
    "net = net_split[0] + a + net_split[1] + a + net_split[2] + a\n",
    "start_point = 60\n",
    "end_point = 80"
   ]
  },
  {
   "cell_type": "code",
   "execution_count": 9,
   "metadata": {},
   "outputs": [],
   "source": [
    "oс = platform.system()\n",
    "if (oс == \"Windows\"):\n",
    "    ping_com = \"ping -n 1 -a \"\n",
    "else:\n",
    "    ping_com = \"ping -c 1 \""
   ]
  },
  {
   "cell_type": "code",
   "execution_count": 10,
   "metadata": {},
   "outputs": [
    {
     "name": "stdout",
     "output_type": "stream",
     "text": [
      "Scanning in Progress:\n",
      "IP                 Status          Name            MAC\n",
      "192.168.1.71--> Ping Ok    DTOLS1900000879    dc-71-96-91-fd-89\n",
      "192.168.1.67--> Ping Ok    HPB2272D    ac-e2-d3-b2-27-2d\n",
      "192.168.1.65--> Ping Ok    192.168.1.65    34-ce-00-8d-5e-3f\n",
      "192.168.1.73--> Ping Ok    192.168.1.73    44-23-7c-92-2c-1d\n",
      "192.168.1.66--> Ping Ok    192.168.1.66    d4-38-9c-3d-ac-56\n",
      "192.168.1.72--> Ping Ok    192.168.1.72    78-11-dc-03-df-4b\n",
      "192.168.1.64--> Ping Ok    192.168.1.64    f0-99-b6-39-b6-36\n",
      "Find ip : 7\n",
      "Scanning completed in:  0:00:12.030694\n"
     ]
    }
   ],
   "source": [
    "t1 = datetime.now()\n",
    "print(\"Scanning in Progress:\")\n",
    "print('IP                 Status          Name            MAC')\n",
    "for ip in range(start_point, end_point):\n",
    "    if ip == int(net_split[3]):\n",
    "        continue\n",
    "    potoc = threading.Thread(target=scan_Ip, args=[ip])\n",
    "    potoc.start()\n",
    "    #potoc.join()\n",
    "potoc.join()\n",
    "t2 = datetime.now()\n",
    "total = t2 - t1\n",
    "for i in strin:\n",
    "    print(i)\n",
    "print ('Find ip :',len(strin))\n",
    "print(\"Scanning completed in: \", total)"
   ]
  }
 ],
 "metadata": {
  "kernelspec": {
   "display_name": "Python 3",
   "language": "python",
   "name": "python3"
  },
  "language_info": {
   "codemirror_mode": {
    "name": "ipython",
    "version": 3
   },
   "file_extension": ".py",
   "mimetype": "text/x-python",
   "name": "python",
   "nbconvert_exporter": "python",
   "pygments_lexer": "ipython3",
   "version": "3.7.6"
  }
 },
 "nbformat": 4,
 "nbformat_minor": 4
}
