{
 "cells": [
  {
   "cell_type": "code",
   "execution_count": 1,
   "metadata": {},
   "outputs": [],
   "source": [
    "import PIL.Image\n",
    "import PIL.ExifTags\n",
    "import os\n",
    "import time"
   ]
  },
  {
   "cell_type": "code",
   "execution_count": 2,
   "metadata": {},
   "outputs": [],
   "source": [
    "dir_path = r'H:\\2019-10-07 XPERIA\\100ANDRO'"
   ]
  },
  {
   "cell_type": "code",
   "execution_count": 3,
   "metadata": {},
   "outputs": [],
   "source": [
    "def dto_extract(dir_path, file_name):\n",
    "    file_path = os.path.join(dir_path, file_name)\n",
    "    ext = os.path.splitext(file_name)[1]\n",
    "    if ext.lower() == '.jpg':\n",
    "        img = PIL.Image.open(file_path)\n",
    "        exif = {\n",
    "            PIL.ExifTags.TAGS[k]: v\n",
    "            for k, v in img._getexif().items()\n",
    "            if k in PIL.ExifTags.TAGS\n",
    "        }\n",
    "        dto = exif['DateTimeOriginal']\n",
    "        dto = dto.split(' ')\n",
    "        dto[0] = dto[0].replace(':', '-')\n",
    "        dto[1] = dto[1].replace(':', '')\n",
    "        dto = '-'.join(dto)\n",
    "        new_path = os.path.join(dir_path, dto + ext)\n",
    "    else:\n",
    "        new_date_name = time.strftime('%Y-%m-%d-%H%M%S', time.gmtime(os.stat(file_path)[8] + 10800))\n",
    "        new_path = os.path.join(dir_path, new_date_name + ext)\n",
    "    return new_path"
   ]
  },
  {
   "cell_type": "code",
   "execution_count": 4,
   "metadata": {},
   "outputs": [],
   "source": [
    "new_names = []\n",
    "c = 1\n",
    "for file in os.listdir(dir_path):\n",
    "    new_name = dto_extract(dir_path, file)\n",
    "    if new_name not in new_names:\n",
    "        new_names.append(new_name)\n",
    "    else:\n",
    "        while new_name in new_names:\n",
    "            c+=1\n",
    "            new_name_main = os.path.splitext(new_name)[0]\n",
    "            new_name_ext = os.path.splitext(new_name)[1]\n",
    "            new_name_main = new_name_main + f'-{c}'\n",
    "            new_name = new_name_main + new_name_ext\n",
    "        new_names.append(new_name)\n",
    "        c =1"
   ]
  },
  {
   "cell_type": "code",
   "execution_count": null,
   "metadata": {},
   "outputs": [],
   "source": [
    "i = -1\n",
    "for file in os.listdir(dir_path):\n",
    "    old_path = os.path.join(dir_path, file)\n",
    "    i+=1\n",
    "    print(old_path)\n",
    "    print(new_names[i])\n",
    "    os.rename(old_path, new_names[i])"
   ]
  }
 ],
 "metadata": {
  "kernelspec": {
   "display_name": "Python 3",
   "language": "python",
   "name": "python3"
  },
  "language_info": {
   "codemirror_mode": {
    "name": "ipython",
    "version": 3
   },
   "file_extension": ".py",
   "mimetype": "text/x-python",
   "name": "python",
   "nbconvert_exporter": "python",
   "pygments_lexer": "ipython3",
   "version": "3.7.6"
  }
 },
 "nbformat": 4,
 "nbformat_minor": 4
}
