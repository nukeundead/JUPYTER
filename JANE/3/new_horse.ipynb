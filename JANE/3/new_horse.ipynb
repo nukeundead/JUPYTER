{
 "cells": [
  {
   "cell_type": "code",
   "execution_count": 62,
   "metadata": {},
   "outputs": [],
   "source": [
    "def knight(sx, sy, ex, ey, step=0):\n",
    "    print(sx, sy, step)\n",
    "    dx = ex - sx\n",
    "    dy = ey - sy\n",
    "    dxdy = (abs(dx) + abs(dy))\n",
    "    if step < 2:\n",
    "        if (dx * dy) != 0 and dxdy == 3:\n",
    "            step+=1\n",
    "            return step\n",
    "        elif dxdy == 2:\n",
    "            step+=2\n",
    "            return step\n",
    "        elif dxdy == 1:\n",
    "            return -1\n",
    "        elif (dx == 0) or (dy == 0):\n",
    "            sx = int(sx + (7 - 2 * sx) / abs(7 - 2 * sx) * 1)\n",
    "            sy = int(sy + (7 - 2 * sy) / abs(7 - 2 * sy) * 2)\n",
    "            step += 1\n",
    "            return knight(sx, sy, ex, ey, step)\n",
    "        else:\n",
    "            sx = int(sx + (dx / abs(dx) * 1))\n",
    "            sy = int(sy + (dy / abs(dy) * 2))\n",
    "            step += 1\n",
    "            return knight(sx, sy, ex, ey, step)\n",
    "    else:\n",
    "        return -1"
   ]
  },
  {
   "cell_type": "code",
   "execution_count": 63,
   "metadata": {},
   "outputs": [
    {
     "name": "stdout",
     "output_type": "stream",
     "text": [
      "1 1 0\n"
     ]
    },
    {
     "data": {
      "text/plain": [
       "1"
      ]
     },
     "execution_count": 63,
     "metadata": {},
     "output_type": "execute_result"
    }
   ],
   "source": [
    "knight(1, 1, 2, 3)"
   ]
  },
  {
   "cell_type": "code",
   "execution_count": 64,
   "metadata": {},
   "outputs": [
    {
     "name": "stdout",
     "output_type": "stream",
     "text": [
      "1 1 0\n",
      "2 3 1\n",
      "3 5 2\n"
     ]
    },
    {
     "data": {
      "text/plain": [
       "-1"
      ]
     },
     "execution_count": 64,
     "metadata": {},
     "output_type": "execute_result"
    }
   ],
   "source": [
    "knight(1, 1, 8, 8)"
   ]
  },
  {
   "cell_type": "code",
   "execution_count": 65,
   "metadata": {},
   "outputs": [
    {
     "name": "stdout",
     "output_type": "stream",
     "text": [
      "1 1 0\n",
      "2 3 1\n",
      "3 5 2\n"
     ]
    },
    {
     "data": {
      "text/plain": [
       "-1"
      ]
     },
     "execution_count": 65,
     "metadata": {},
     "output_type": "execute_result"
    }
   ],
   "source": [
    "knight(1, 1, 5, 3)"
   ]
  },
  {
   "cell_type": "code",
   "execution_count": null,
   "metadata": {},
   "outputs": [],
   "source": []
  }
 ],
 "metadata": {
  "kernelspec": {
   "display_name": "Python 3",
   "language": "python",
   "name": "python3"
  },
  "language_info": {
   "codemirror_mode": {
    "name": "ipython",
    "version": 3
   },
   "file_extension": ".py",
   "mimetype": "text/x-python",
   "name": "python",
   "nbconvert_exporter": "python",
   "pygments_lexer": "ipython3",
   "version": "3.7.6"
  }
 },
 "nbformat": 4,
 "nbformat_minor": 4
}
