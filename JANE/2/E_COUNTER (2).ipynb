{
 "cells": [
  {
   "cell_type": "markdown",
   "metadata": {},
   "source": [
    "# Сдать решение задачи E - Сортировка подсчетом\n",
    "* Полный балл: 50\n",
    "* Штраф за посылку: 1\n",
    "* Ограничение времени: 1 с\n",
    "* Ограничение реального времени: 1 с\n",
    "* Ограничение памяти: 64М\n",
    "\n",
    "В этой задаче необходимо реализовать сортировку подсчётом для массива десятичных цифр.\n",
    "\n",
    "---\n",
    "# Формат входных данных\n",
    "Одна строка - массив десятичных цифр, разделенных пробелом.\n",
    "# Формат выходных данных\n",
    "N строк, отражающих изменения состояния счётчика, где N - размер входного массива. И еще одна строка - отсортированный по возрастанию массив.\n",
    "\n",
    "---"
   ]
  },
  {
   "cell_type": "markdown",
   "metadata": {},
   "source": [
    "# Справочные материалы\n",
    "* [Словари (dict) и работа с ними. Методы словарей](https://pythonworld.ru/tipy-dannyx-v-python/slovari-dict-funkcii-i-metody-slovarej.html)\n",
    "* [Сортировки распределением](https://habr.com/ru/company/edison/blog/472466/)\n",
    "\n",
    "*Считаем, сколько раз встречается то или иное число в массиве. Зная эти количества, быстро формируем уже упорядоченный массив.*\n",
    "*Для этой сортировки нужно знать минимум и максимум в массиве. Тогда генерируются ключи для вспомогательного массива, в котором и фиксируем чего и сколько раз встретилось.*\n",
    "\n",
    "![Url](https://hsto.org/webt/wf/oe/-d/wfoe-dctpt010wmbwqld6j2ab8a.gif)"
   ]
  },
  {
   "cell_type": "markdown",
   "metadata": {},
   "source": [
    "---\n",
    "# Код"
   ]
  },
  {
   "cell_type": "code",
   "execution_count": 70,
   "metadata": {},
   "outputs": [
    {
     "name": "stdout",
     "output_type": "stream",
     "text": [
      "7\n",
      "[9, 1, 6, 3, 3, 6, 10]\n",
      "0 0 0 0 0 0 0 0 0 1 0\n",
      "0 1 0 0 0 0 0 0 0 1 0\n",
      "0 1 0 0 0 0 1 0 0 1 0\n",
      "0 1 0 1 0 0 1 0 0 1 0\n",
      "0 1 0 2 0 0 1 0 0 1 0\n",
      "0 1 0 2 0 0 2 0 0 1 0\n",
      "0 1 0 2 0 0 2 0 0 1 1\n"
     ]
    },
    {
     "data": {
      "text/plain": [
       "'1 3 3 6 6 9 10'"
      ]
     },
     "execution_count": 70,
     "metadata": {},
     "output_type": "execute_result"
    }
   ],
   "source": [
    "import random\n",
    "\n",
    "\n",
    "# ОПРЕДЕЛЯЕМ КОЛИЧЕСТВО ЧИСЕЛ\n",
    "N = random.randint(5,10)\n",
    "print(N)\n",
    "\n",
    "\n",
    "# ЗАПОЛНЯЕМ МАССИВ ЧИСЛАМИ\n",
    "n_list = []\n",
    "for i in range(N):\n",
    "    n_list.append(random.randint(1,10))\n",
    "print(n_list)\n",
    "\n",
    "# ВСПОМОГАТЕЛЬНЫЕ ФУНКЦИИ\n",
    "\n",
    "# ПОИСК МАКСИМАЛЬНОГО ЧИСЛА В МАССИВЕ\n",
    "def fmax(lst):\n",
    "    mx = lst[0]\n",
    "    for item in lst:\n",
    "        if item > mx:\n",
    "            mx = item\n",
    "    return mx\n",
    "\n",
    "\n",
    "# ПОИСК МИНИМАЛЬНОГО ЧИСЛА В МАССИВЕ\n",
    "def fmin(lst):\n",
    "    mn = lst[0]\n",
    "    for item in lst:\n",
    "        if item < mn:\n",
    "            mn = item\n",
    "    return mn\n",
    "\n",
    "\n",
    "def csed(array):\n",
    "    mn = fmin(array)\n",
    "    mx = fmax(array)\n",
    "    d = {}\n",
    "    \n",
    "    for i in range(mx+1):\n",
    "        d.update({i : 0})\n",
    "    \n",
    "    for i in array:\n",
    "        if i in d.keys():\n",
    "            d.update({i : d[i] +1})\n",
    "        iter_list = list(d.values())\n",
    "        print(' '.join(str(x) for x in iter_list))\n",
    "    \n",
    "    result = []\n",
    "    for j in range(mn,mx+1):\n",
    "        if j in array:\n",
    "            result += [j]* d[j]\n",
    "    \n",
    "    rez = ' '.join(str(x) for x in result)\n",
    "    return rez\n",
    "    \n",
    "\n",
    "csed(n_list)"
   ]
  },
  {
   "cell_type": "code",
   "execution_count": null,
   "metadata": {},
   "outputs": [],
   "source": []
  }
 ],
 "metadata": {
  "kernelspec": {
   "display_name": "Python 3",
   "language": "python",
   "name": "python3"
  },
  "language_info": {
   "codemirror_mode": {
    "name": "ipython",
    "version": 3
   },
   "file_extension": ".py",
   "mimetype": "text/x-python",
   "name": "python",
   "nbconvert_exporter": "python",
   "pygments_lexer": "ipython3",
   "version": "3.7.6"
  }
 },
 "nbformat": 4,
 "nbformat_minor": 4
}
