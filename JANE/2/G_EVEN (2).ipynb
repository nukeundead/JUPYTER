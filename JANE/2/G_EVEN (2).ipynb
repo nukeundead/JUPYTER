{
 "cells": [
  {
   "cell_type": "markdown",
   "metadata": {},
   "source": [
    "# Сдать решение задачи G - Сортировка только чётных элементов\n",
    "* Полный балл: 100\n",
    "* Штраф за посылку: 1\n",
    "* Ограничение времени: 1 с\n",
    "* Ограничение реального времени: 5 с\n",
    "* Ограничение памяти: 64М\n",
    "\n",
    "На вход подается массив из целых чисел. Вам необходимо отсортировать его так, чтобы нечётные по значению элементы остались на своих местах, а чётные по значению элементы шли по возрастанию.\n",
    "Условие **втроенные сортировки использовать запрещено**\n",
    "\n",
    "---\n",
    "# Формат входных данных\n",
    "Одна строка - входной массив. Элементы массива через пробел.\n",
    "# Формат выходных данных\n",
    "Одна строка - отсортированный массив. Элементы массива через пробел."
   ]
  },
  {
   "cell_type": "markdown",
   "metadata": {},
   "source": [
    "---\n",
    "# Код"
   ]
  },
  {
   "cell_type": "code",
   "execution_count": 13,
   "metadata": {},
   "outputs": [
    {
     "name": "stdout",
     "output_type": "stream",
     "text": [
      "7\n",
      "[14, 5, 8, 10, 15, 1, 10]\n",
      "[14, 8, 10, 10]\n",
      "[0, 2, 3, 6]\n",
      "[8, 5, 10, 10, 15, 1, 14]\n"
     ]
    }
   ],
   "source": [
    "import random\n",
    "\n",
    "\n",
    "# ОПРЕДЕЛЯЕМ КОЛИЧЕСТВО ЧИСЕЛ\n",
    "N = random.randint(5,10)\n",
    "print(N)\n",
    "\n",
    "# ЗАПОЛНЯЕМ МАССИВ ЧИСЛАМИ\n",
    "n_list = []\n",
    "for i in range(N):\n",
    "    n_list.append(random.randint(1,20))\n",
    "print(n_list)\n",
    "\n",
    "indexes = []\n",
    "evens = []\n",
    "\n",
    "for i in range(len(n_list)):\n",
    "    if n_list[i] % 2 == 0: # ЕСЛИ ОСТАТОК ОТ ДЕЛЕНИЯ НА 2 - НОЛЬ, Т.Е. ЧИСЛО ЧЁТНОЕ\n",
    "        indexes.append(i) # ЗАПОМИНАЕМ ИНДЕКС ЧЁТНОГО\n",
    "        evens.append(n_list[i]) # ЗАПОМИНАЕМ ЧЁТНОЕ\n",
    "\n",
    "print(evens)\n",
    "print(indexes)\n",
    "\n",
    "\n",
    "# НАША СОБСТВЕННАЯ РАНЕЕ НАПИСАННАЯ ПУЗЫРЬКОВАЯ СОРТИРОВКА\n",
    "def bSort(array):\n",
    "    l = len(array)\n",
    "    for i in range(l):\n",
    "        for j in range(0, l-i-1):\n",
    "            if array[j] > array[j+1]:\n",
    "                temp = array[j]\n",
    "                array[j] = array[j+1]\n",
    "                array[j+1] = temp\n",
    "    return array\n",
    "\n",
    "\n",
    "# СОРТИРУЕМ МАССИВ ЧЁТНЫХ\n",
    "evens = bSort(evens)\n",
    "print(evens)\n",
    "\n",
    "# ВСТАВЛЯЕМ ОТСОРТИРОВАННЫЕ ЧЁТНЫЕ В ИСХОДНЫЙ МАССИВ\n",
    "for i in range(len(evens)):\n",
    "    index = indexes[i] # ИНДЕКС ВСТАВКИ\n",
    "    even = evens[i] # ЧЁТНОЕ ДЛЯ ВСТАВКИ\n",
    "    n_list[index] = even # ВСТАВКА\n",
    "\n",
    "# РАДУЕМСЯ :)\n",
    "print(n_list)"
   ]
  }
 ],
 "metadata": {
  "kernelspec": {
   "display_name": "Python 3",
   "language": "python",
   "name": "python3"
  },
  "language_info": {
   "codemirror_mode": {
    "name": "ipython",
    "version": 3
   },
   "file_extension": ".py",
   "mimetype": "text/x-python",
   "name": "python",
   "nbconvert_exporter": "python",
   "pygments_lexer": "ipython3",
   "version": "3.7.6"
  }
 },
 "nbformat": 4,
 "nbformat_minor": 4
}
