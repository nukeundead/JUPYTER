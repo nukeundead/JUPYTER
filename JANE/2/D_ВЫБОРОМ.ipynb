{
 "cells": [
  {
   "cell_type": "code",
   "execution_count": 11,
   "metadata": {},
   "outputs": [
    {
     "name": "stdout",
     "output_type": "stream",
     "text": [
      "94 499 -536 -796 42 -921 863 50 76 -180 273 -796\n",
      "\n",
      " 0 -921 [94, 499, -536, -796, 42, -921, 863, 50, 76, -180, 273, -796]\n",
      "-921 499 -536 -796 42 94 863 50 76 -180 273 -796\n",
      "\n",
      " 1 -796 [499, -536, -796, 42, 94, 863, 50, 76, -180, 273, -796]\n",
      "-921 -536 499 -796 42 94 863 50 76 -180 273 -796\n",
      "\n",
      " 2 -796 [499, -796, 42, 94, 863, 50, 76, -180, 273, -796]\n",
      "-921 499 -536 -796 42 94 863 50 76 -180 273 -796\n"
     ]
    }
   ],
   "source": [
    "n_list = [94, 499, -536, -796, 42, -921, 863, 50, 76, -180, 273, -796]\n",
    "\n",
    "\n",
    "def fmin(l_list):\n",
    "    mn=0\n",
    "    for i in l_list:\n",
    "        if i<mn:\n",
    "            mn=i\n",
    "    return mn\n",
    "\n",
    "\n",
    "def selection_sort(array):\n",
    "    print(' '.join(str(x) for x in array))\n",
    "#    for i in range(len(array)-1):\n",
    "    for i in range(3):\n",
    "        mn=fmin(array[i:len(array)])\n",
    "        print('\\n', i, mn, array[i:len(array)])\n",
    "        mn_i=array.index(mn)\n",
    "        array[i],array[mn_i]=array[mn_i],array[i]\n",
    "        print(' '.join(str(x) for x in array))\n",
    "\n",
    "        \n",
    "selection_sort(n_list)"
   ]
  },
  {
   "cell_type": "code",
   "execution_count": null,
   "metadata": {},
   "outputs": [],
   "source": []
  }
 ],
 "metadata": {
  "kernelspec": {
   "display_name": "Python 3",
   "language": "python",
   "name": "python3"
  },
  "language_info": {
   "codemirror_mode": {
    "name": "ipython",
    "version": 3
   },
   "file_extension": ".py",
   "mimetype": "text/x-python",
   "name": "python",
   "nbconvert_exporter": "python",
   "pygments_lexer": "ipython3",
   "version": "3.7.6"
  }
 },
 "nbformat": 4,
 "nbformat_minor": 4
}
