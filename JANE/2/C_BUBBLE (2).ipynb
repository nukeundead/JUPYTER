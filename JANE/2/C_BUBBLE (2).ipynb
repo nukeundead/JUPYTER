{
 "cells": [
  {
   "cell_type": "markdown",
   "metadata": {},
   "source": [
    "# Сдать решение задачи C - BubbleSort\n",
    "* Полный балл: 50\n",
    "* Штраф за посылку: 1\n",
    "* Ограничение времени: 1 с\n",
    "* Ограничение реального времени: 1 с\n",
    "* Ограничение памяти: 64М\n",
    "\n",
    "Написать программу, осуществляющую сортировку пузырьком введенных чисел по возрастанию.\n",
    "\n",
    "---\n",
    "# Формат входных данных\n",
    "символом Последовательность целых чисел, разделенная пробел.\n",
    "# Формат выходных данных\n",
    "Первая строка - входной массив.\n",
    "Последующие строки - состояние массива в сортировке. Печатайте массив всякий раз, когда производится перестановка его элементов.\n",
    "\n",
    "---"
   ]
  },
  {
   "cell_type": "markdown",
   "metadata": {},
   "source": [
    "# Справочные материалы\n",
    "* [Сортировка пузырьком](https://ru.wikipedia.org/wiki/%D0%A1%D0%BE%D1%80%D1%82%D0%B8%D1%80%D0%BE%D0%B2%D0%BA%D0%B0_%D0%BF%D1%83%D0%B7%D1%8B%D1%80%D1%8C%D0%BA%D0%BE%D0%BC)\n",
    "\n",
    "![Url](https://upload.wikimedia.org/wikipedia/commons/c/c8/Bubble-sort-example-300px.gif)\n"
   ]
  },
  {
   "cell_type": "markdown",
   "metadata": {},
   "source": [
    "---\n",
    "# Код"
   ]
  },
  {
   "cell_type": "code",
   "execution_count": 12,
   "metadata": {},
   "outputs": [
    {
     "name": "stdout",
     "output_type": "stream",
     "text": [
      "6\n",
      "[7, 6, 7, 3, 8, 10]\n",
      "[6, 7, 7, 3, 8, 10]\n",
      "[6, 7, 3, 7, 8, 10]\n",
      "[6, 3, 7, 7, 8, 10]\n",
      "[3, 6, 7, 7, 8, 10]\n"
     ]
    },
    {
     "data": {
      "text/plain": [
       "[3, 6, 7, 7, 8, 10]"
      ]
     },
     "execution_count": 12,
     "metadata": {},
     "output_type": "execute_result"
    }
   ],
   "source": [
    "import random\n",
    "\n",
    "\n",
    "# ОПРЕДЕЛЯЕМ КОЛИЧЕСТВО ЧИСЕЛ\n",
    "N = random.randint(5,7)\n",
    "print(N)\n",
    "\n",
    "# ЗАПОЛНЯЕМ МАССИВ ЧИСЛАМИ\n",
    "n_list = []\n",
    "for i in range(N):\n",
    "    n_list.append(random.randint(1,10))\n",
    "print(n_list)\n",
    "\n",
    "\n",
    "def bSort(array):\n",
    "    # ОПРЕДЕЛЯЕМ ДЛИНУ МАССИВА\n",
    "    l = len(array)\n",
    "    # ВНЕШНИЙ ЦИКЛ, ЧИСЛО ПРОХОДОВ N-1\n",
    "    for i in range(l):\n",
    "        # ВНУТРЕННИЙ ЦИКЛ, N-i-1 ПРОХОДОВ\n",
    "        for j in range(0, l-i-1):\n",
    "            # МЕНЯЕМ ЭЛЕМЕНТЫ МЕСТАМИ\n",
    "            if array[j] > array[j+1]:\n",
    "                temp = array[j]\n",
    "                array[j] = array[j+1]\n",
    "                array[j+1] = temp\n",
    "                print(array)\n",
    "    return array\n",
    "\n",
    "\n",
    "bSort(n_list)"
   ]
  }
 ],
 "metadata": {
  "kernelspec": {
   "display_name": "Python 3",
   "language": "python",
   "name": "python3"
  },
  "language_info": {
   "codemirror_mode": {
    "name": "ipython",
    "version": 3
   },
   "file_extension": ".py",
   "mimetype": "text/x-python",
   "name": "python",
   "nbconvert_exporter": "python",
   "pygments_lexer": "ipython3",
   "version": "3.7.6"
  }
 },
 "nbformat": 4,
 "nbformat_minor": 4
}
