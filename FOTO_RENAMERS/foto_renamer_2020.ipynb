{
 "cells": [
  {
   "cell_type": "markdown",
   "metadata": {},
   "source": [
    "# Переименования фотографий в соответствии с датой съемки"
   ]
  },
  {
   "cell_type": "markdown",
   "metadata": {},
   "source": [
    "Импорт библиотек:"
   ]
  },
  {
   "cell_type": "code",
   "execution_count": 1,
   "metadata": {},
   "outputs": [],
   "source": [
    "import PIL.Image\n",
    "import PIL.ExifTags\n",
    "import os\n",
    "import pandas as pd\n",
    "import datetime as dt\n",
    "from datetime import datetime\n",
    "import time\n",
    "pd.set_option('display.max_rows', 800)"
   ]
  },
  {
   "cell_type": "code",
   "execution_count": 2,
   "metadata": {},
   "outputs": [],
   "source": [
    "dir_path = r'H:\\2019-12-29 Фотосессия на Красной Площади\\Исходники'\n",
    "path = r'H:\\2019-12-29 Фотосессия на Красной Площади\\Исходники\\_-1.jpg'\n",
    "name = r'_-1.jpg'"
   ]
  },
  {
   "cell_type": "code",
   "execution_count": 3,
   "metadata": {},
   "outputs": [],
   "source": [
    "def dto_extract(dir_path, file_name):\n",
    "    file_path = os.path.join(dir_path, file_name)\n",
    "    ext = os.path.splitext(file_name)[1]\n",
    "    img = PIL.Image.open(file_path)\n",
    "    exif = {\n",
    "        PIL.ExifTags.TAGS[k]: v\n",
    "        for k, v in img._getexif().items()\n",
    "        if k in PIL.ExifTags.TAGS\n",
    "    }\n",
    "    dto = exif['DateTimeOriginal']\n",
    "    dto = dto.split(' ')\n",
    "    dto[0] = dto[0].replace(':', '-')\n",
    "    dto[1] = dto[1].replace(':', '')\n",
    "    dto = '-'.join(dto)\n",
    "    new_path = os.path.join(dir_path, dto+ext)\n",
    "    os.rename(file_path, new_path)\n",
    "    return new_path"
   ]
  },
  {
   "cell_type": "code",
   "execution_count": 4,
   "metadata": {},
   "outputs": [
    {
     "ename": "PermissionError",
     "evalue": "[WinError 32] Процесс не может получить доступ к файлу, так как этот файл занят другим процессом: 'H:\\\\2019-12-29 Фотосессия на Красной Площади\\\\Исходники\\\\_-1.jpg' -> 'H:\\\\2019-12-29 Фотосессия на Красной Площади\\\\Исходники\\\\2019-12-28-120419.jpg'",
     "output_type": "error",
     "traceback": [
      "\u001b[1;31m---------------------------------------------------------------------------\u001b[0m",
      "\u001b[1;31mPermissionError\u001b[0m                           Traceback (most recent call last)",
      "\u001b[1;32m<ipython-input-4-88ae175e3138>\u001b[0m in \u001b[0;36m<module>\u001b[1;34m\u001b[0m\n\u001b[1;32m----> 1\u001b[1;33m \u001b[0mdto_extract\u001b[0m\u001b[1;33m(\u001b[0m\u001b[0mdir_path\u001b[0m\u001b[1;33m,\u001b[0m \u001b[0mname\u001b[0m\u001b[1;33m)\u001b[0m\u001b[1;33m\u001b[0m\u001b[1;33m\u001b[0m\u001b[0m\n\u001b[0m",
      "\u001b[1;32m<ipython-input-3-8e1c31bdfa7c>\u001b[0m in \u001b[0;36mdto_extract\u001b[1;34m(dir_path, file_name)\u001b[0m\n\u001b[0;32m     14\u001b[0m     \u001b[0mdto\u001b[0m \u001b[1;33m=\u001b[0m \u001b[1;34m'-'\u001b[0m\u001b[1;33m.\u001b[0m\u001b[0mjoin\u001b[0m\u001b[1;33m(\u001b[0m\u001b[0mdto\u001b[0m\u001b[1;33m)\u001b[0m\u001b[1;33m\u001b[0m\u001b[1;33m\u001b[0m\u001b[0m\n\u001b[0;32m     15\u001b[0m     \u001b[0mnew_path\u001b[0m \u001b[1;33m=\u001b[0m \u001b[0mos\u001b[0m\u001b[1;33m.\u001b[0m\u001b[0mpath\u001b[0m\u001b[1;33m.\u001b[0m\u001b[0mjoin\u001b[0m\u001b[1;33m(\u001b[0m\u001b[0mdir_path\u001b[0m\u001b[1;33m,\u001b[0m \u001b[0mdto\u001b[0m\u001b[1;33m+\u001b[0m\u001b[0mext\u001b[0m\u001b[1;33m)\u001b[0m\u001b[1;33m\u001b[0m\u001b[1;33m\u001b[0m\u001b[0m\n\u001b[1;32m---> 16\u001b[1;33m     \u001b[0mos\u001b[0m\u001b[1;33m.\u001b[0m\u001b[0mrename\u001b[0m\u001b[1;33m(\u001b[0m\u001b[0mfile_path\u001b[0m\u001b[1;33m,\u001b[0m \u001b[0mnew_path\u001b[0m\u001b[1;33m)\u001b[0m\u001b[1;33m\u001b[0m\u001b[1;33m\u001b[0m\u001b[0m\n\u001b[0m\u001b[0;32m     17\u001b[0m     \u001b[1;32mreturn\u001b[0m \u001b[0mnew_path\u001b[0m\u001b[1;33m\u001b[0m\u001b[1;33m\u001b[0m\u001b[0m\n",
      "\u001b[1;31mPermissionError\u001b[0m: [WinError 32] Процесс не может получить доступ к файлу, так как этот файл занят другим процессом: 'H:\\\\2019-12-29 Фотосессия на Красной Площади\\\\Исходники\\\\_-1.jpg' -> 'H:\\\\2019-12-29 Фотосессия на Красной Площади\\\\Исходники\\\\2019-12-28-120419.jpg'"
     ]
    }
   ],
   "source": [
    "dto_extract(dir_path, name)"
   ]
  },
  {
   "cell_type": "markdown",
   "metadata": {},
   "source": [
    "Задание пути к папке с фотографиями и чтение списка файлов:"
   ]
  },
  {
   "cell_type": "code",
   "execution_count": 32,
   "metadata": {},
   "outputs": [
    {
     "data": {
      "text/plain": [
       "['2019-06-12-035710.jpg',\n",
       " '2019-06-12-201357.jpg',\n",
       " '2019-06-14-123759.jpg',\n",
       " '2019-06-14-123805.jpg',\n",
       " '2019-06-14-123819.jpg']"
      ]
     },
     "execution_count": 32,
     "metadata": {},
     "output_type": "execute_result"
    }
   ],
   "source": [
    "dir_path = r'H:\\57054\\МЕДИА\\ФОТОВИДЕО\\ФОТОГРАФИИ\\2019-06 КАРЕЛИЯ С ХОХЛАМИ'\n",
    "files = os.listdir(dir_path)\n",
    "files[:5]"
   ]
  },
  {
   "cell_type": "code",
   "execution_count": 4,
   "metadata": {},
   "outputs": [],
   "source": [
    "DateTimeOriginal_list = []\n",
    "DateTimeDigitized_list = []\n",
    "DateTime_list = []\n",
    "filenames = []\n",
    "truth = []\n",
    "for file in files:\n",
    "    ext = os.path.splitext(file)[1]\n",
    "    if ext.lower() == '.jpg':\n",
    "        path = os.path.join(dir_path, file)\n",
    "        img = PIL.Image.open(path)\n",
    "        exif = {\n",
    "            PIL.ExifTags.TAGS[k]: v\n",
    "            for k, v in img._getexif().items()\n",
    "            if k in PIL.ExifTags.TAGS\n",
    "        }\n",
    "        filenames.append(file)\n",
    "        DateTimeOriginal = pd.Timestamp(exif['DateTimeOriginal'].split(' ')[0].replace(':', '-') + ' ' + exif['DateTimeOriginal'].split(' ')[1])\n",
    "        DateTimeOriginal_list.append(DateTimeOriginal)\n",
    "        DateTimeDigitized = pd.Timestamp(exif['DateTimeDigitized'].split(' ')[0].replace(':', '-') + ' ' + exif['DateTimeDigitized'].split(' ')[1])\n",
    "        DateTimeDigitized_list.append(DateTimeDigitized)\n",
    "        DateTime = pd.Timestamp(exif['DateTime'].split(' ')[0].replace(':', '-') + ' ' + exif['DateTime'].split(' ')[1])\n",
    "        DateTime_list.append(DateTime)\n",
    "        truth.append((DateTimeOriginal == DateTimeDigitized) and (DateTimeDigitized == DateTime))"
   ]
  },
  {
   "cell_type": "code",
   "execution_count": 5,
   "metadata": {},
   "outputs": [
    {
     "data": {
      "text/html": [
       "<div>\n",
       "<style scoped>\n",
       "    .dataframe tbody tr th:only-of-type {\n",
       "        vertical-align: middle;\n",
       "    }\n",
       "\n",
       "    .dataframe tbody tr th {\n",
       "        vertical-align: top;\n",
       "    }\n",
       "\n",
       "    .dataframe thead th {\n",
       "        text-align: right;\n",
       "    }\n",
       "</style>\n",
       "<table border=\"1\" class=\"dataframe\">\n",
       "  <thead>\n",
       "    <tr style=\"text-align: right;\">\n",
       "      <th></th>\n",
       "      <th>filename</th>\n",
       "      <th>DateTimeOriginal</th>\n",
       "      <th>DateTimeDigitized</th>\n",
       "      <th>DateTime</th>\n",
       "      <th>truth</th>\n",
       "    </tr>\n",
       "  </thead>\n",
       "  <tbody>\n",
       "    <tr>\n",
       "      <th>0</th>\n",
       "      <td>DSC_0257.JPG</td>\n",
       "      <td>2019-06-12 03:57:10</td>\n",
       "      <td>2019-06-12 03:57:10</td>\n",
       "      <td>2019-06-12 03:57:10</td>\n",
       "      <td>True</td>\n",
       "    </tr>\n",
       "    <tr>\n",
       "      <th>1</th>\n",
       "      <td>DSC_0260.JPG</td>\n",
       "      <td>2019-06-12 20:13:57</td>\n",
       "      <td>2019-06-12 20:13:57</td>\n",
       "      <td>2019-06-12 20:13:57</td>\n",
       "      <td>True</td>\n",
       "    </tr>\n",
       "    <tr>\n",
       "      <th>2</th>\n",
       "      <td>DSC_0264.JPG</td>\n",
       "      <td>2019-06-14 12:37:59</td>\n",
       "      <td>2019-06-14 12:37:59</td>\n",
       "      <td>2019-06-14 12:37:59</td>\n",
       "      <td>True</td>\n",
       "    </tr>\n",
       "    <tr>\n",
       "      <th>3</th>\n",
       "      <td>DSC_0265.JPG</td>\n",
       "      <td>2019-06-14 12:38:05</td>\n",
       "      <td>2019-06-14 12:38:05</td>\n",
       "      <td>2019-06-14 12:38:05</td>\n",
       "      <td>True</td>\n",
       "    </tr>\n",
       "    <tr>\n",
       "      <th>4</th>\n",
       "      <td>DSC_0266.JPG</td>\n",
       "      <td>2019-06-14 12:38:19</td>\n",
       "      <td>2019-06-14 12:38:19</td>\n",
       "      <td>2019-06-14 12:38:19</td>\n",
       "      <td>True</td>\n",
       "    </tr>\n",
       "  </tbody>\n",
       "</table>\n",
       "</div>"
      ],
      "text/plain": [
       "       filename    DateTimeOriginal   DateTimeDigitized            DateTime  \\\n",
       "0  DSC_0257.JPG 2019-06-12 03:57:10 2019-06-12 03:57:10 2019-06-12 03:57:10   \n",
       "1  DSC_0260.JPG 2019-06-12 20:13:57 2019-06-12 20:13:57 2019-06-12 20:13:57   \n",
       "2  DSC_0264.JPG 2019-06-14 12:37:59 2019-06-14 12:37:59 2019-06-14 12:37:59   \n",
       "3  DSC_0265.JPG 2019-06-14 12:38:05 2019-06-14 12:38:05 2019-06-14 12:38:05   \n",
       "4  DSC_0266.JPG 2019-06-14 12:38:19 2019-06-14 12:38:19 2019-06-14 12:38:19   \n",
       "\n",
       "   truth  \n",
       "0   True  \n",
       "1   True  \n",
       "2   True  \n",
       "3   True  \n",
       "4   True  "
      ]
     },
     "execution_count": 5,
     "metadata": {},
     "output_type": "execute_result"
    }
   ],
   "source": [
    "data = {'filename': filenames,\n",
    "         'DateTimeOriginal': DateTimeOriginal_list,\n",
    "         'DateTimeDigitized': DateTimeDigitized_list,\n",
    "         'DateTime': DateTime_list,\n",
    "        'truth': truth\n",
    "       }\n",
    "df = pd.DataFrame.from_dict(data)\n",
    "df.head(5)"
   ]
  },
  {
   "cell_type": "code",
   "execution_count": 6,
   "metadata": {},
   "outputs": [
    {
     "data": {
      "text/plain": [
       "0   2019-06-12 03:57:10\n",
       "1   2019-06-12 20:13:57\n",
       "2   2019-06-14 12:37:59\n",
       "3   2019-06-14 12:38:05\n",
       "4   2019-06-14 12:38:19\n",
       "Name: name, dtype: datetime64[ns]"
      ]
     },
     "execution_count": 6,
     "metadata": {},
     "output_type": "execute_result"
    }
   ],
   "source": [
    "df['name'] = pd.to_datetime(df['DateTimeOriginal'], format='%Y-%m-%d-%H%M%S')\n",
    "df['name'].head()"
   ]
  },
  {
   "cell_type": "code",
   "execution_count": 7,
   "metadata": {},
   "outputs": [
    {
     "data": {
      "text/plain": [
       "0    2019-06-12-035710\n",
       "1    2019-06-12-201357\n",
       "2    2019-06-14-123759\n",
       "3    2019-06-14-123805\n",
       "4    2019-06-14-123819\n",
       "Name: name, dtype: object"
      ]
     },
     "execution_count": 7,
     "metadata": {},
     "output_type": "execute_result"
    }
   ],
   "source": [
    "new_date = []\n",
    "for old_date in df['name'].to_list():\n",
    "    new_date.append(old_date.strftime('%Y-%m-%d-%H%M%S'))\n",
    "new_date\n",
    "df['name'] = new_date"
   ]
  },
  {
   "cell_type": "code",
   "execution_count": 8,
   "metadata": {},
   "outputs": [
    {
     "data": {
      "text/html": [
       "<div>\n",
       "<style scoped>\n",
       "    .dataframe tbody tr th:only-of-type {\n",
       "        vertical-align: middle;\n",
       "    }\n",
       "\n",
       "    .dataframe tbody tr th {\n",
       "        vertical-align: top;\n",
       "    }\n",
       "\n",
       "    .dataframe thead th {\n",
       "        text-align: right;\n",
       "    }\n",
       "</style>\n",
       "<table border=\"1\" class=\"dataframe\">\n",
       "  <thead>\n",
       "    <tr style=\"text-align: right;\">\n",
       "      <th></th>\n",
       "      <th>filename</th>\n",
       "      <th>DateTimeOriginal</th>\n",
       "      <th>DateTimeDigitized</th>\n",
       "      <th>DateTime</th>\n",
       "      <th>truth</th>\n",
       "      <th>name</th>\n",
       "    </tr>\n",
       "  </thead>\n",
       "  <tbody>\n",
       "    <tr>\n",
       "      <th>0</th>\n",
       "      <td>DSC_0257.JPG</td>\n",
       "      <td>2019-06-12 03:57:10</td>\n",
       "      <td>2019-06-12 03:57:10</td>\n",
       "      <td>2019-06-12 03:57:10</td>\n",
       "      <td>True</td>\n",
       "      <td>2019-06-12-035710</td>\n",
       "    </tr>\n",
       "    <tr>\n",
       "      <th>1</th>\n",
       "      <td>DSC_0260.JPG</td>\n",
       "      <td>2019-06-12 20:13:57</td>\n",
       "      <td>2019-06-12 20:13:57</td>\n",
       "      <td>2019-06-12 20:13:57</td>\n",
       "      <td>True</td>\n",
       "      <td>2019-06-12-201357</td>\n",
       "    </tr>\n",
       "    <tr>\n",
       "      <th>2</th>\n",
       "      <td>DSC_0264.JPG</td>\n",
       "      <td>2019-06-14 12:37:59</td>\n",
       "      <td>2019-06-14 12:37:59</td>\n",
       "      <td>2019-06-14 12:37:59</td>\n",
       "      <td>True</td>\n",
       "      <td>2019-06-14-123759</td>\n",
       "    </tr>\n",
       "    <tr>\n",
       "      <th>3</th>\n",
       "      <td>DSC_0265.JPG</td>\n",
       "      <td>2019-06-14 12:38:05</td>\n",
       "      <td>2019-06-14 12:38:05</td>\n",
       "      <td>2019-06-14 12:38:05</td>\n",
       "      <td>True</td>\n",
       "      <td>2019-06-14-123805</td>\n",
       "    </tr>\n",
       "    <tr>\n",
       "      <th>4</th>\n",
       "      <td>DSC_0266.JPG</td>\n",
       "      <td>2019-06-14 12:38:19</td>\n",
       "      <td>2019-06-14 12:38:19</td>\n",
       "      <td>2019-06-14 12:38:19</td>\n",
       "      <td>True</td>\n",
       "      <td>2019-06-14-123819</td>\n",
       "    </tr>\n",
       "  </tbody>\n",
       "</table>\n",
       "</div>"
      ],
      "text/plain": [
       "       filename    DateTimeOriginal   DateTimeDigitized            DateTime  \\\n",
       "0  DSC_0257.JPG 2019-06-12 03:57:10 2019-06-12 03:57:10 2019-06-12 03:57:10   \n",
       "1  DSC_0260.JPG 2019-06-12 20:13:57 2019-06-12 20:13:57 2019-06-12 20:13:57   \n",
       "2  DSC_0264.JPG 2019-06-14 12:37:59 2019-06-14 12:37:59 2019-06-14 12:37:59   \n",
       "3  DSC_0265.JPG 2019-06-14 12:38:05 2019-06-14 12:38:05 2019-06-14 12:38:05   \n",
       "4  DSC_0266.JPG 2019-06-14 12:38:19 2019-06-14 12:38:19 2019-06-14 12:38:19   \n",
       "\n",
       "   truth               name  \n",
       "0   True  2019-06-12-035710  \n",
       "1   True  2019-06-12-201357  \n",
       "2   True  2019-06-14-123759  \n",
       "3   True  2019-06-14-123805  \n",
       "4   True  2019-06-14-123819  "
      ]
     },
     "execution_count": 8,
     "metadata": {},
     "output_type": "execute_result"
    }
   ],
   "source": [
    "df.head(5)"
   ]
  },
  {
   "cell_type": "code",
   "execution_count": 9,
   "metadata": {},
   "outputs": [
    {
     "data": {
      "text/html": [
       "<div>\n",
       "<style scoped>\n",
       "    .dataframe tbody tr th:only-of-type {\n",
       "        vertical-align: middle;\n",
       "    }\n",
       "\n",
       "    .dataframe tbody tr th {\n",
       "        vertical-align: top;\n",
       "    }\n",
       "\n",
       "    .dataframe thead th {\n",
       "        text-align: right;\n",
       "    }\n",
       "</style>\n",
       "<table border=\"1\" class=\"dataframe\">\n",
       "  <thead>\n",
       "    <tr style=\"text-align: right;\">\n",
       "      <th></th>\n",
       "      <th>filename</th>\n",
       "      <th>DateTimeOriginal</th>\n",
       "      <th>DateTimeDigitized</th>\n",
       "      <th>DateTime</th>\n",
       "      <th>truth</th>\n",
       "      <th>name</th>\n",
       "    </tr>\n",
       "  </thead>\n",
       "  <tbody>\n",
       "    <tr>\n",
       "      <th>0</th>\n",
       "      <td>DSC_0257.JPG</td>\n",
       "      <td>2019-06-12 03:57:10</td>\n",
       "      <td>2019-06-12 03:57:10</td>\n",
       "      <td>2019-06-12 03:57:10</td>\n",
       "      <td>True</td>\n",
       "      <td>2019-06-12-035710.jpg</td>\n",
       "    </tr>\n",
       "    <tr>\n",
       "      <th>1</th>\n",
       "      <td>DSC_0260.JPG</td>\n",
       "      <td>2019-06-12 20:13:57</td>\n",
       "      <td>2019-06-12 20:13:57</td>\n",
       "      <td>2019-06-12 20:13:57</td>\n",
       "      <td>True</td>\n",
       "      <td>2019-06-12-201357.jpg</td>\n",
       "    </tr>\n",
       "    <tr>\n",
       "      <th>2</th>\n",
       "      <td>DSC_0264.JPG</td>\n",
       "      <td>2019-06-14 12:37:59</td>\n",
       "      <td>2019-06-14 12:37:59</td>\n",
       "      <td>2019-06-14 12:37:59</td>\n",
       "      <td>True</td>\n",
       "      <td>2019-06-14-123759.jpg</td>\n",
       "    </tr>\n",
       "    <tr>\n",
       "      <th>3</th>\n",
       "      <td>DSC_0265.JPG</td>\n",
       "      <td>2019-06-14 12:38:05</td>\n",
       "      <td>2019-06-14 12:38:05</td>\n",
       "      <td>2019-06-14 12:38:05</td>\n",
       "      <td>True</td>\n",
       "      <td>2019-06-14-123805.jpg</td>\n",
       "    </tr>\n",
       "    <tr>\n",
       "      <th>4</th>\n",
       "      <td>DSC_0266.JPG</td>\n",
       "      <td>2019-06-14 12:38:19</td>\n",
       "      <td>2019-06-14 12:38:19</td>\n",
       "      <td>2019-06-14 12:38:19</td>\n",
       "      <td>True</td>\n",
       "      <td>2019-06-14-123819.jpg</td>\n",
       "    </tr>\n",
       "  </tbody>\n",
       "</table>\n",
       "</div>"
      ],
      "text/plain": [
       "       filename    DateTimeOriginal   DateTimeDigitized            DateTime  \\\n",
       "0  DSC_0257.JPG 2019-06-12 03:57:10 2019-06-12 03:57:10 2019-06-12 03:57:10   \n",
       "1  DSC_0260.JPG 2019-06-12 20:13:57 2019-06-12 20:13:57 2019-06-12 20:13:57   \n",
       "2  DSC_0264.JPG 2019-06-14 12:37:59 2019-06-14 12:37:59 2019-06-14 12:37:59   \n",
       "3  DSC_0265.JPG 2019-06-14 12:38:05 2019-06-14 12:38:05 2019-06-14 12:38:05   \n",
       "4  DSC_0266.JPG 2019-06-14 12:38:19 2019-06-14 12:38:19 2019-06-14 12:38:19   \n",
       "\n",
       "   truth                   name  \n",
       "0   True  2019-06-12-035710.jpg  \n",
       "1   True  2019-06-12-201357.jpg  \n",
       "2   True  2019-06-14-123759.jpg  \n",
       "3   True  2019-06-14-123805.jpg  \n",
       "4   True  2019-06-14-123819.jpg  "
      ]
     },
     "execution_count": 9,
     "metadata": {},
     "output_type": "execute_result"
    }
   ],
   "source": [
    "df['name'] = df.name + '.jpg'\n",
    "df.head(5)"
   ]
  },
  {
   "cell_type": "code",
   "execution_count": 10,
   "metadata": {},
   "outputs": [],
   "source": [
    "old_names = df['filename']\n",
    "new_names = df['name']\n",
    "dictionary = dict(zip(old_names, new_names))"
   ]
  },
  {
   "cell_type": "markdown",
   "metadata": {},
   "source": [
    "Собственно переименование:"
   ]
  },
  {
   "cell_type": "code",
   "execution_count": 11,
   "metadata": {},
   "outputs": [
    {
     "ename": "PermissionError",
     "evalue": "[WinError 32] Процесс не может получить доступ к файлу, так как этот файл занят другим процессом: 'H:\\\\57054\\\\МЕДИА\\\\ФОТОВИДЕО\\\\ФОТОГРАФИИ\\\\2019-06 КАРЕЛИЯ С ХОХЛАМИ\\\\DSC_0394.JPG' -> 'H:\\\\57054\\\\МЕДИА\\\\ФОТОВИДЕО\\\\ФОТОГРАФИИ\\\\2019-06 КАРЕЛИЯ С ХОХЛАМИ\\\\2019-06-16-083433.jpg'",
     "output_type": "error",
     "traceback": [
      "\u001b[1;31m---------------------------------------------------------------------------\u001b[0m",
      "\u001b[1;31mPermissionError\u001b[0m                           Traceback (most recent call last)",
      "\u001b[1;32m<ipython-input-11-eca875df8162>\u001b[0m in \u001b[0;36m<module>\u001b[1;34m\u001b[0m\n\u001b[0;32m      1\u001b[0m \u001b[1;32mfor\u001b[0m \u001b[0mkey\u001b[0m \u001b[1;32min\u001b[0m \u001b[0mdictionary\u001b[0m\u001b[1;33m.\u001b[0m\u001b[0mkeys\u001b[0m\u001b[1;33m(\u001b[0m\u001b[1;33m)\u001b[0m\u001b[1;33m:\u001b[0m\u001b[1;33m\u001b[0m\u001b[1;33m\u001b[0m\u001b[0m\n\u001b[1;32m----> 2\u001b[1;33m     \u001b[0mos\u001b[0m\u001b[1;33m.\u001b[0m\u001b[0mrename\u001b[0m\u001b[1;33m(\u001b[0m\u001b[0mos\u001b[0m\u001b[1;33m.\u001b[0m\u001b[0mpath\u001b[0m\u001b[1;33m.\u001b[0m\u001b[0mjoin\u001b[0m\u001b[1;33m(\u001b[0m\u001b[0mdir_path\u001b[0m\u001b[1;33m,\u001b[0m \u001b[0mkey\u001b[0m\u001b[1;33m)\u001b[0m\u001b[1;33m,\u001b[0m \u001b[0mos\u001b[0m\u001b[1;33m.\u001b[0m\u001b[0mpath\u001b[0m\u001b[1;33m.\u001b[0m\u001b[0mjoin\u001b[0m\u001b[1;33m(\u001b[0m\u001b[0mdir_path\u001b[0m\u001b[1;33m,\u001b[0m \u001b[0mdictionary\u001b[0m\u001b[1;33m[\u001b[0m\u001b[0mkey\u001b[0m\u001b[1;33m]\u001b[0m\u001b[1;33m)\u001b[0m\u001b[1;33m)\u001b[0m\u001b[1;33m\u001b[0m\u001b[1;33m\u001b[0m\u001b[0m\n\u001b[0m",
      "\u001b[1;31mPermissionError\u001b[0m: [WinError 32] Процесс не может получить доступ к файлу, так как этот файл занят другим процессом: 'H:\\\\57054\\\\МЕДИА\\\\ФОТОВИДЕО\\\\ФОТОГРАФИИ\\\\2019-06 КАРЕЛИЯ С ХОХЛАМИ\\\\DSC_0394.JPG' -> 'H:\\\\57054\\\\МЕДИА\\\\ФОТОВИДЕО\\\\ФОТОГРАФИИ\\\\2019-06 КАРЕЛИЯ С ХОХЛАМИ\\\\2019-06-16-083433.jpg'"
     ]
    }
   ],
   "source": [
    "for key in dictionary.keys():\n",
    "    #os.rename(os.path.join(dir_path, key), os.path.join(dir_path, dictionary[key]))"
   ]
  },
  {
   "cell_type": "code",
   "execution_count": 64,
   "metadata": {},
   "outputs": [
    {
     "name": "stdout",
     "output_type": "stream",
     "text": [
      "2019-04-27 18-32-00.mp4 2019-10-07 06-17-28\n",
      "2019-09-06 18-51-48.mp4 2019-10-07 06-17-28\n",
      "2019-09-06 18-54-00.mp4 2019-10-07 06-17-28\n",
      "2019-09-09 21-04-21.mp4 2019-10-07 06-17-28\n",
      "2019-09-11 20-38-12.mp4 2019-10-07 06-17-28\n",
      "2019-09-17 20-27-58.mp4 2019-10-07 06-17-28\n",
      "2019-09-29 18-10-32.mp4 2019-10-07 06-17-28\n",
      "MOV_0012.mp4 2019-10-07 06-17-28\n",
      "MOV_0039.mp4 2019-10-07 06-17-28\n",
      "MOV_0079.mp4 2019-10-07 06-17-28\n",
      "MOV_0092.mp4 2019-10-07 06-17-28\n",
      "MOV_0093.mp4 2019-10-07 06-17-28\n",
      "MOV_0094.mp4 2019-10-07 06-17-28\n",
      "MOV_0095.mp4 2019-10-07 06-17-28\n",
      "MOV_0096.mp4 2019-10-07 06-17-28\n",
      "MOV_0097.mp4 2019-10-07 06-17-28\n",
      "MOV_0101.mp4 2019-10-07 06-17-28\n",
      "MOV_0102.mp4 2019-10-07 06-17-28\n",
      "MOV_0104.mp4 2019-10-07 06-17-28\n",
      "MOV_0120.mp4 2019-10-07 06-17-28\n",
      "MOV_0129.mp4 2019-10-07 06-17-28\n",
      "MOV_0152.mp4 2019-10-07 06-17-28\n",
      "MOV_0153.mp4 2019-10-07 06-17-28\n",
      "MOV_0154.mp4 2019-10-07 06-17-28\n",
      "MOV_0155.mp4 2019-10-07 06-17-28\n",
      "MOV_0156.mp4 2019-10-07 06-17-28\n",
      "MOV_0160.mp4 2019-10-07 06-17-28\n",
      "MOV_0243.mp4 2019-10-07 06-17-28\n",
      "MOV_0254.mp4 2019-10-07 06-17-28\n",
      "MOV_0255.mp4 2019-10-07 06-17-28\n",
      "MOV_0416.mp4 2019-10-07 06-17-28\n",
      "MOV_0418.mp4 2019-10-07 06-17-28\n",
      "MOV_0427.mp4 2019-10-07 06-17-28\n",
      "MOV_0455.mp4 2019-10-07 06-17-28\n",
      "MOV_0456.mp4 2019-10-07 06-17-28\n",
      "MOV_0475.mp4 2019-10-07 06-17-28\n",
      "MOV_0476.mp4 2019-10-07 06-17-28\n",
      "MOV_0547.mp4 2019-10-07 06-17-28\n",
      "MOV_0570.mp4 2019-10-07 06-17-28\n",
      "MOV_0575.mp4 2019-10-07 06-17-28\n",
      "MOV_0576.mp4 2019-10-07 06-17-28\n",
      "MOV_0577.mp4 2019-10-07 06-17-28\n",
      "MOV_0578.mp4 2019-10-07 06-17-28\n",
      "MOV_0620.mp4 2019-10-07 06-17-28\n",
      "MOV_0621.mp4 2019-10-07 06-17-28\n",
      "MOV_0641.mp4 2019-10-07 06-17-28\n",
      "MOV_0686.mp4 2019-10-07 06-17-28\n"
     ]
    }
   ],
   "source": [
    "dir_path = r'H:\\2019-10-07 XPERIA\\100ANDRO'\n",
    "files = os.listdir(dir_path)\n",
    "for file in files:\n",
    "    ext = os.path.splitext(file)[1]\n",
    "    if ext != '.jpg':\n",
    "        old_name = os.path.join(dir_path, file)\n",
    "        new_date_name = time.strftime('%Y-%m-%d %H-%M-%S', time.gmtime(os.path.getctime(path)))\n",
    "        new_name = os.path.join(dir_path, new_date_name + ext)\n",
    "        print(file, new_date_name)"
   ]
  },
  {
   "cell_type": "code",
   "execution_count": 52,
   "metadata": {},
   "outputs": [
    {
     "data": {
      "text/plain": [
       "'2019-09-05 17-18-46'"
      ]
     },
     "execution_count": 52,
     "metadata": {},
     "output_type": "execute_result"
    }
   ],
   "source": [
    "st_mtime = time.strftime('%Y-%m-%d %H-%M-%S', time.gmtime(os.stat(path)[8]))\n",
    "st_mtime"
   ]
  },
  {
   "cell_type": "code",
   "execution_count": 53,
   "metadata": {},
   "outputs": [
    {
     "data": {
      "text/plain": [
       "('MOV_0686', '.mp4')"
      ]
     },
     "execution_count": 53,
     "metadata": {},
     "output_type": "execute_result"
    }
   ],
   "source": [
    "os.path.splitext(file)"
   ]
  },
  {
   "cell_type": "code",
   "execution_count": 57,
   "metadata": {},
   "outputs": [
    {
     "data": {
      "text/plain": [
       "'2019-09-05 17-18-46'"
      ]
     },
     "execution_count": 57,
     "metadata": {},
     "output_type": "execute_result"
    }
   ],
   "source": [
    "time.strftime('%Y-%m-%d %H-%M-%S', time.gmtime(os.path.getmtime(path)))"
   ]
  },
  {
   "cell_type": "code",
   "execution_count": null,
   "metadata": {},
   "outputs": [],
   "source": []
  }
 ],
 "metadata": {
  "kernelspec": {
   "display_name": "Python 3",
   "language": "python",
   "name": "python3"
  },
  "language_info": {
   "codemirror_mode": {
    "name": "ipython",
    "version": 3
   },
   "file_extension": ".py",
   "mimetype": "text/x-python",
   "name": "python",
   "nbconvert_exporter": "python",
   "pygments_lexer": "ipython3",
   "version": "3.7.6"
  }
 },
 "nbformat": 4,
 "nbformat_minor": 4
}
