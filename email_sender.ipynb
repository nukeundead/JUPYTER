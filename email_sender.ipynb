{
 "cells": [
  {
   "cell_type": "code",
   "execution_count": 1,
   "metadata": {},
   "outputs": [],
   "source": [
    "import smtplib                                                                                                          # Импортируем библиотеку по работе с SMTP\n",
    "import os                                                                                                               # Функции для работы с операционной системой, не зависящие от используемой операционной системы\n",
    "from datetime import *\n",
    "import sys\n",
    "# Добавляем необходимые подклассы - MIME-типы\n",
    "import mimetypes                                                                                                        # Импорт класса для обработки неизвестных MIME-типов, базирующихся на расширении файла\n",
    "from email import encoders                                                                                              # Импортируем энкодер\n",
    "from email.mime.base import MIMEBase                                                                                    # Общий тип\n",
    "from email.mime.text import MIMEText                                                                                    # Текст/HTML\n",
    "from email.mime.image import MIMEImage                                                                                  # Изображения\n",
    "from email.mime.audio import MIMEAudio                                                                                  # Аудио\n",
    "from email.mime.multipart import MIMEMultipart                                                                          # Многокомпонентный объект"
   ]
  },
  {
   "cell_type": "code",
   "execution_count": 2,
   "metadata": {},
   "outputs": [],
   "source": [
    "def send_email(addr_to, msg_subj, msg_text):\n",
    "    addr_from = \"nivensky@yandex.ru\"                                                                                    # Отправитель\n",
    "    password  = \"brn_YANDEX_101513\"                                                                                        # Пароль\n",
    "\n",
    "    msg = MIMEMultipart()                                                                                               # Создаем сообщение\n",
    "    msg['From']    = addr_from                                                                                          # Адресат\n",
    "    msg['To']      = addr_to                                                                                            # Получатель\n",
    "    msg['Subject'] = msg_subj                                                                                           # Тема сообщения\n",
    "\n",
    "    body = msg_text                                                                                                     # Текст сообщения\n",
    "    msg.attach(MIMEText(body, 'plain'))                                                                                 # Добавляем в сообщение текст\n",
    "\n",
    "    server = smtplib.SMTP('smtp.yandex.ru', 587)                                                                        # Создаем объект SMTP\n",
    "    server.starttls()                                                                                                   # Начинаем шифрованный обмен по TLS\n",
    "    server.login(addr_from, password)                                                                                   # Получаем доступ\n",
    "    server.send_message(msg)                                                                                            # Отправляем сообщение\n",
    "    server.quit()                                                                                                       # Выходим"
   ]
  },
  {
   "cell_type": "code",
   "execution_count": 3,
   "metadata": {},
   "outputs": [],
   "source": [
    "addr_to   = \"nivensky@yandex.ru\"                                                                                        # Получатель\n",
    "addr_to   = \"nivensky@yandex.ru\"                                                                                  # Получатель\n",
    "msg_subj = 'ЖЕНА!!!'\n",
    "msg_text = 'ЖЕНА!!!'"
   ]
  },
  {
   "cell_type": "code",
   "execution_count": 4,
   "metadata": {},
   "outputs": [],
   "source": [
    "send_email(addr_to, msg_subj, msg_text)"
   ]
  }
 ],
 "metadata": {
  "kernelspec": {
   "display_name": "Python 3",
   "language": "python",
   "name": "python3"
  },
  "language_info": {
   "codemirror_mode": {
    "name": "ipython",
    "version": 3
   },
   "file_extension": ".py",
   "mimetype": "text/x-python",
   "name": "python",
   "nbconvert_exporter": "python",
   "pygments_lexer": "ipython3",
   "version": "3.7.6"
  }
 },
 "nbformat": 4,
 "nbformat_minor": 4
}
