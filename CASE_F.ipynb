{
 "cells": [
  {
   "cell_type": "markdown",
   "metadata": {},
   "source": [
    "# Сдать решение задачи F - Решето Эратосфена\n",
    "* Полный балл: 100\n",
    "* Штраф за посылку: 1\n",
    "* Ограничение времени: 3 с\n",
    "* Ограничение реального времени: 5 с\n",
    "* Ограничение памяти: 64М\n",
    "\n",
    "Вам дано число N, которое не превышает 10000.\n",
    "Выведите все простые числа от 2 до N включительно.\n",
    "Операции умножения и деления использовать запрещено!\n",
    "\n",
    "---\n",
    "# Формат входных данных\n",
    "Вводится натуральное число N, 2 <= N <= 10000.\n",
    "# Формат выходных данных\n",
    "Последовательность чисел через пробел - простые числа, не превосходящие N."
   ]
  },
  {
   "cell_type": "markdown",
   "metadata": {},
   "source": [
    "---\n",
    "\n",
    "# Справочные материалы\n",
    "![ChessUrl](https://upload.wikimedia.org/wikipedia/commons/8/8c/New_Animation_Sieve_of_Eratosthenes.gif \"chess\")"
   ]
  },
  {
   "cell_type": "markdown",
   "metadata": {},
   "source": [
    "---\n",
    "# Код"
   ]
  },
  {
   "cell_type": "code",
   "execution_count": 1,
   "metadata": {},
   "outputs": [],
   "source": [
    "def eratosthenes(n): # n - число, до которого хотим найти простые числа\n",
    "    sieve = list(range(n + 1)) # список [0, 1, 2, ... n+1]\n",
    "    if show:\n",
    "        print(sieve)\n",
    "    sieve[1] = 0 # список [0, 0, 2, ... n+1]\n",
    "    if show:\n",
    "        print(sieve)\n",
    "    for i in sieve: # перебор содержимого sieve\n",
    "        if i > 1:\n",
    "            jlist = list(range(i + i, len(sieve), i))\n",
    "            for j in jlist:\n",
    "                sieve[j] = 0\n",
    "                if show:\n",
    "                    print(f'\\ni = {i} j = {j}\\nsieve : {sieve}\\njlist : {jlist}')\n",
    "    sieve1 = [x for x in sieve if x != 0]\n",
    "    answer = ' '.join(str(x) for x in sieve1)\n",
    "    return print(f'Вывод:\\n{answer}')"
   ]
  },
  {
   "cell_type": "markdown",
   "metadata": {},
   "source": [
    "# Объяснение"
   ]
  },
  {
   "cell_type": "code",
   "execution_count": 2,
   "metadata": {},
   "outputs": [
    {
     "name": "stdout",
     "output_type": "stream",
     "text": [
      "[0, 1, 2, 3, 4, 5, 6, 7, 8, 9, 10, 11, 12, 13]\n",
      "[0, 0, 2, 3, 4, 5, 6, 7, 8, 9, 10, 11, 12, 13]\n",
      "\n",
      "i = 2 j = 4\n",
      "sieve : [0, 0, 2, 3, 0, 5, 6, 7, 8, 9, 10, 11, 12, 13]\n",
      "jlist : [4, 6, 8, 10, 12]\n",
      "\n",
      "i = 2 j = 6\n",
      "sieve : [0, 0, 2, 3, 0, 5, 0, 7, 8, 9, 10, 11, 12, 13]\n",
      "jlist : [4, 6, 8, 10, 12]\n",
      "\n",
      "i = 2 j = 8\n",
      "sieve : [0, 0, 2, 3, 0, 5, 0, 7, 0, 9, 10, 11, 12, 13]\n",
      "jlist : [4, 6, 8, 10, 12]\n",
      "\n",
      "i = 2 j = 10\n",
      "sieve : [0, 0, 2, 3, 0, 5, 0, 7, 0, 9, 0, 11, 12, 13]\n",
      "jlist : [4, 6, 8, 10, 12]\n",
      "\n",
      "i = 2 j = 12\n",
      "sieve : [0, 0, 2, 3, 0, 5, 0, 7, 0, 9, 0, 11, 0, 13]\n",
      "jlist : [4, 6, 8, 10, 12]\n",
      "\n",
      "i = 3 j = 6\n",
      "sieve : [0, 0, 2, 3, 0, 5, 0, 7, 0, 9, 0, 11, 0, 13]\n",
      "jlist : [6, 9, 12]\n",
      "\n",
      "i = 3 j = 9\n",
      "sieve : [0, 0, 2, 3, 0, 5, 0, 7, 0, 0, 0, 11, 0, 13]\n",
      "jlist : [6, 9, 12]\n",
      "\n",
      "i = 3 j = 12\n",
      "sieve : [0, 0, 2, 3, 0, 5, 0, 7, 0, 0, 0, 11, 0, 13]\n",
      "jlist : [6, 9, 12]\n",
      "\n",
      "i = 5 j = 10\n",
      "sieve : [0, 0, 2, 3, 0, 5, 0, 7, 0, 0, 0, 11, 0, 13]\n",
      "jlist : [10]\n",
      "Вывод:\n",
      "2 3 5 7 11 13\n"
     ]
    }
   ],
   "source": [
    "show = True\n",
    "\n",
    "N = 13\n",
    "eratosthenes(N)\n",
    "\n",
    "show = False"
   ]
  },
  {
   "cell_type": "markdown",
   "metadata": {},
   "source": [
    "# Примеры"
   ]
  },
  {
   "cell_type": "code",
   "execution_count": 3,
   "metadata": {},
   "outputs": [
    {
     "name": "stdout",
     "output_type": "stream",
     "text": [
      "Вывод:\n",
      "2 3 5\n"
     ]
    }
   ],
   "source": [
    "N = 5\n",
    "eratosthenes(N)"
   ]
  },
  {
   "cell_type": "code",
   "execution_count": 4,
   "metadata": {},
   "outputs": [
    {
     "name": "stdout",
     "output_type": "stream",
     "text": [
      "Вывод:\n",
      "2 3 5 7\n"
     ]
    }
   ],
   "source": [
    "N = 10\n",
    "eratosthenes(N)"
   ]
  },
  {
   "cell_type": "code",
   "execution_count": 5,
   "metadata": {},
   "outputs": [
    {
     "name": "stdin",
     "output_type": "stream",
     "text": [
      "Введите N (2 <= N <= 10000):  13\n"
     ]
    },
    {
     "name": "stdout",
     "output_type": "stream",
     "text": [
      "\n",
      "Ввод: 13\n",
      "\n",
      "Вывод:\n",
      "2 3 5 7 11 13\n"
     ]
    }
   ],
   "source": [
    "N = int(input('Введите N (2 <= N <= 10000): '))\n",
    "if N > 10000:\n",
    "    N = 10000\n",
    "elif N < 2:\n",
    "    N = 2\n",
    "print(f'\\nВвод: {N}\\n')\n",
    "eratosthenes(N)"
   ]
  },
  {
   "cell_type": "code",
   "execution_count": null,
   "metadata": {},
   "outputs": [],
   "source": []
  }
 ],
 "metadata": {
  "kernelspec": {
   "display_name": "Python 3",
   "language": "python",
   "name": "python3"
  },
  "language_info": {
   "codemirror_mode": {
    "name": "ipython",
    "version": 3
   },
   "file_extension": ".py",
   "mimetype": "text/x-python",
   "name": "python",
   "nbconvert_exporter": "python",
   "pygments_lexer": "ipython3",
   "version": "3.7.6"
  }
 },
 "nbformat": 4,
 "nbformat_minor": 4
}
