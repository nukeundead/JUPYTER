{
 "cells": [
  {
   "cell_type": "code",
   "execution_count": 20,
   "metadata": {},
   "outputs": [],
   "source": [
    "import os\n",
    "import requests\n",
    "import json"
   ]
  },
  {
   "cell_type": "code",
   "execution_count": 21,
   "metadata": {},
   "outputs": [],
   "source": [
    "api_key = 'trnsl.1.1.20200415T200903Z.13c031b68ed0be23.09b73745362e2f8dd7b71f71dde16b89e9652705'"
   ]
  },
  {
   "cell_type": "code",
   "execution_count": 29,
   "metadata": {},
   "outputs": [
    {
     "data": {
      "text/plain": [
       "<Response [200]>"
      ]
     },
     "execution_count": 29,
     "metadata": {},
     "output_type": "execute_result"
    }
   ],
   "source": [
    "text = 'Hello world!'\n",
    "r = requests.get(f'https://translate.yandex.net/api/v1.5/tr.json/translate?key={api_key}&text={text}&lang=en-ru&format=plain')\n",
    "r"
   ]
  },
  {
   "cell_type": "code",
   "execution_count": 30,
   "metadata": {},
   "outputs": [
    {
     "data": {
      "text/plain": [
       "'Всем привет!'"
      ]
     },
     "execution_count": 30,
     "metadata": {},
     "output_type": "execute_result"
    }
   ],
   "source": [
    "r.json()['text'][0]"
   ]
  },
  {
   "cell_type": "code",
   "execution_count": null,
   "metadata": {},
   "outputs": [],
   "source": [
    "path = r'C:\\Users\\LGN\\Desktop'\n",
    "path_of = r'C:\\Users\\LGN\\Desktop\\DDMBOK'\n",
    "f = open(os.path.join(path, 'DAMA_DMBOK_2.txt'))\n",
    "text = ''\n",
    "part = 0\n",
    "for line in f:\n",
    "    text_len = len(text)\n",
    "    line_len = len(line)\n",
    "    text += line\n",
    "    if len(text) > 9000:\n",
    "        text = text[:text_len]\n",
    "        part+=1\n",
    "        of = open(os.path.join(path_of, f'DDMBOK_{part}.txt'), 'w')\n",
    "        of.write(text)\n",
    "        of.close()\n",
    "        ofru = open(os.path.join(path_of, f'DDMBOK_{part}_RUS.txt'), 'w')\n",
    "        r = requests.get(f'https://translate.yandex.net/api/v1.5/tr.json/translate?key={api_key}&text={text}&lang=en-ru&format=plain')\n",
    "        try:\n",
    "            ofru.write(r.json()['text'][0])\n",
    "        except:\n",
    "            None\n",
    "        ofru.close()\n",
    "        text = line\n",
    "        print(part)"
   ]
  },
  {
   "cell_type": "code",
   "execution_count": 41,
   "metadata": {},
   "outputs": [],
   "source": [
    "fof = open(os.path.join(path_of, f'DDMBOK_RUS.txt'), 'w')\n",
    "for part in range(140):\n",
    "    ofru = open(os.path.join(path_of, f'DDMBOK_{part+1}_RUS.txt'))\n",
    "    for line in ofru:\n",
    "        fof.write(line)\n",
    "fof.close()"
   ]
  },
  {
   "cell_type": "code",
   "execution_count": null,
   "metadata": {},
   "outputs": [],
   "source": []
  }
 ],
 "metadata": {
  "kernelspec": {
   "display_name": "Python 3",
   "language": "python",
   "name": "python3"
  },
  "language_info": {
   "codemirror_mode": {
    "name": "ipython",
    "version": 3
   },
   "file_extension": ".py",
   "mimetype": "text/x-python",
   "name": "python",
   "nbconvert_exporter": "python",
   "pygments_lexer": "ipython3",
   "version": "3.7.6"
  }
 },
 "nbformat": 4,
 "nbformat_minor": 4
}
