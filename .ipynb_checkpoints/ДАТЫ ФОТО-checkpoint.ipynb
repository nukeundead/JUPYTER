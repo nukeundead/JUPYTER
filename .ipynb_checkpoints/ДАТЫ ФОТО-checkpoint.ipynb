{
 "cells": [
  {
   "cell_type": "code",
   "execution_count": null,
   "metadata": {},
   "outputs": [],
   "source": [
    "Всё отлично, только дату лучше брать из Exif.Image.DateTime\n",
    "\n",
    "from PIL import Image\n",
    "def get_date_taken(path):\n",
    "    return Image.open(path)._getexif()[36867]"
   ]
  }
 ],
 "metadata": {
  "kernelspec": {
   "display_name": "Python 3",
   "language": "python",
   "name": "python3"
  },
  "language_info": {
   "codemirror_mode": {
    "name": "ipython",
    "version": 3
   },
   "file_extension": ".py",
   "mimetype": "text/x-python",
   "name": "python",
   "nbconvert_exporter": "python",
   "pygments_lexer": "ipython3",
   "version": "3.7.6"
  }
 },
 "nbformat": 4,
 "nbformat_minor": 4
}
