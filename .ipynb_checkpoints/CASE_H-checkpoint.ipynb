{
 "cells": [
  {
   "cell_type": "markdown",
   "metadata": {},
   "source": [
    "# Сдать решение задачи H - Треугольник Паскаля\n",
    "* Полный балл: 150\n",
    "* Штраф за посылку: 1\n",
    "* Ограничение времени: 5 с\n",
    "* Ограничение реального времени: 20 с\n",
    "* Ограничение памяти: 64М\n",
    "\n",
    "По данному числу N выведите первые N+1 строку треугольника Паскаля.\n",
    "# Формат входных данных\n",
    "Во входных данных содержится только число N (0 < N <= 100).\n",
    "# Формат выходных данных\n",
    "Выведите N+1 строку треугольника Паскаля. Числа в строке разделяйте одним пробелом."
   ]
  },
  {
   "cell_type": "markdown",
   "metadata": {},
   "source": [
    "# Справочные материалы\n",
    "* [Модуль math стандартной библиотеки](https://pythonworld.ru/moduli/modul-math.html)\n",
    "* [Списки (list). Функции и методы списков](https://pythonworld.ru/tipy-dannyx-v-python/spiski-list-funkcii-i-metody-spiskov.html)\n",
    "* [Треугольник Паскаля](https://ru.wikipedia.org/wiki/%D0%A2%D1%80%D0%B5%D1%83%D0%B3%D0%BE%D0%BB%D1%8C%D0%BD%D0%B8%D0%BA_%D0%9F%D0%B0%D1%81%D0%BA%D0%B0%D0%BB%D1%8F)"
   ]
  },
  {
   "cell_type": "markdown",
   "metadata": {},
   "source": [
    "<img src=\"https://ru-static.z-dn.net/files/dc5/618ce050fcf1b5873145328011cbe400.jpg\" title=\"Треугольник Паскаля\"/>"
   ]
  },
  {
   "cell_type": "markdown",
   "metadata": {},
   "source": [
    "$$C^{i}_r = \\frac{r!}{i!(r-i)!},$$ где \\\\( C^{i}_r - элемент \\ i \\ строки \\ r, \\\\ r - номер \\ строки, \\\\ i - индекс \\ элемента \\ в \\ строке\\\\)"
   ]
  },
  {
   "cell_type": "markdown",
   "metadata": {},
   "source": [
    "---\n",
    "# Код"
   ]
  },
  {
   "cell_type": "code",
   "execution_count": 1,
   "metadata": {},
   "outputs": [],
   "source": [
    "import math\n",
    "\n",
    "\n",
    "def tpn(N):\n",
    "    print('Вывод:')\n",
    "    for r in range(N+1):\n",
    "        if r == 0:\n",
    "            row = [1]\n",
    "        elif r == 1:\n",
    "            row = [1, 1]\n",
    "        else:\n",
    "            row = []\n",
    "            for i in range(r):\n",
    "                c = int(math.factorial(r) / (math.factorial(i) * math.factorial(r - i)))\n",
    "                row.append(c)\n",
    "            row.append(1)\n",
    "        row = ' '.join(str(x) for x in row)\n",
    "        print(row)"
   ]
  },
  {
   "cell_type": "markdown",
   "metadata": {},
   "source": [
    "# Примеры"
   ]
  },
  {
   "cell_type": "code",
   "execution_count": 2,
   "metadata": {},
   "outputs": [
    {
     "name": "stdout",
     "output_type": "stream",
     "text": [
      "Вывод:\n",
      "1\n",
      "1 1\n"
     ]
    }
   ],
   "source": [
    "tpn(1)"
   ]
  },
  {
   "cell_type": "code",
   "execution_count": 3,
   "metadata": {},
   "outputs": [
    {
     "name": "stdout",
     "output_type": "stream",
     "text": [
      "Вывод:\n",
      "1\n",
      "1 1\n",
      "1 2 1\n",
      "1 3 3 1\n",
      "1 4 6 4 1\n"
     ]
    }
   ],
   "source": [
    "tpn(4)"
   ]
  },
  {
   "cell_type": "code",
   "execution_count": 4,
   "metadata": {},
   "outputs": [
    {
     "name": "stdin",
     "output_type": "stream",
     "text": [
      "Введите N (0 < N <= 100):  13\n"
     ]
    },
    {
     "name": "stdout",
     "output_type": "stream",
     "text": [
      "\n",
      "Ввод:\n",
      "13\n",
      "\n",
      "Вывод:\n",
      "1\n",
      "1 1\n",
      "1 2 1\n",
      "1 3 3 1\n",
      "1 4 6 4 1\n",
      "1 5 10 10 5 1\n",
      "1 6 15 20 15 6 1\n",
      "1 7 21 35 35 21 7 1\n",
      "1 8 28 56 70 56 28 8 1\n",
      "1 9 36 84 126 126 84 36 9 1\n",
      "1 10 45 120 210 252 210 120 45 10 1\n",
      "1 11 55 165 330 462 462 330 165 55 11 1\n",
      "1 12 66 220 495 792 924 792 495 220 66 12 1\n",
      "1 13 78 286 715 1287 1716 1716 1287 715 286 78 13 1\n"
     ]
    }
   ],
   "source": [
    "N = int(input('Введите N (0 < N <= 100): '))\n",
    "if N > 100:\n",
    "    N = 100\n",
    "elif N < 1:\n",
    "    N = 1\n",
    "print(f'\\nВвод:\\n{N}\\n')\n",
    "tpn(N)"
   ]
  }
 ],
 "metadata": {
  "kernelspec": {
   "display_name": "Python 3",
   "language": "python",
   "name": "python3"
  },
  "language_info": {
   "codemirror_mode": {
    "name": "ipython",
    "version": 3
   },
   "file_extension": ".py",
   "mimetype": "text/x-python",
   "name": "python",
   "nbconvert_exporter": "python",
   "pygments_lexer": "ipython3",
   "version": "3.7.6"
  }
 },
 "nbformat": 4,
 "nbformat_minor": 4
}
