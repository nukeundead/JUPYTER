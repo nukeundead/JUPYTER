{
 "cells": [
  {
   "cell_type": "code",
   "execution_count": 1,
   "metadata": {},
   "outputs": [],
   "source": [
    "from tkinter import *\n",
    "root = Tk() #создание главного окна"
   ]
  },
  {
   "cell_type": "code",
   "execution_count": 2,
   "metadata": {},
   "outputs": [],
   "source": [
    "def btn_1_event(event):\n",
    "    print (\"ВВОД ПОКАЗАНИЙ\")\n",
    "\n",
    "def btn_2_event(event):\n",
    "    print (\"КОРРЕКЦИЯ\")\n",
    "\n",
    "def btn_3_event(event):\n",
    "    print (\"ГРАФИКИ\")"
   ]
  },
  {
   "cell_type": "code",
   "execution_count": 3,
   "metadata": {},
   "outputs": [],
   "source": [
    "btn1 = Button(root,            #родительское окно\n",
    "             text=\"ВВОД ПОКАЗАНИЙ\", #надпись на кнопке\n",
    "             width=30,        #ширина\n",
    "             height=5,        #высота\n",
    "             bg=\"white\",      #цвет фона\n",
    "             fg=\"black\")      #цвет надписи"
   ]
  },
  {
   "cell_type": "code",
   "execution_count": 4,
   "metadata": {},
   "outputs": [],
   "source": [
    "btn2 = Button(root,            #родительское окно\n",
    "             text=\"КОРРЕКЦИЯ\", #надпись на кнопке\n",
    "             width=30,        #ширина\n",
    "             height=5,        #высота\n",
    "             bg=\"white\",      #цвет фона\n",
    "             fg=\"black\")      #цвет надписи"
   ]
  },
  {
   "cell_type": "code",
   "execution_count": 5,
   "metadata": {},
   "outputs": [],
   "source": [
    "btn3 = Button(root,            #родительское окно\n",
    "             text=\"ГРАФИКИ\", #надпись на кнопке\n",
    "             width=30,        #ширина\n",
    "             height=5,        #высота\n",
    "             bg=\"white\",      #цвет фона\n",
    "             fg=\"black\")      #цвет надписи"
   ]
  },
  {
   "cell_type": "code",
   "execution_count": 6,
   "metadata": {},
   "outputs": [
    {
     "data": {
      "text/plain": [
       "'2204706068488btn_3_event'"
      ]
     },
     "execution_count": 6,
     "metadata": {},
     "output_type": "execute_result"
    }
   ],
   "source": [
    "btn1.bind(\"<Button-1>\", btn_1_event) #при нажатии ЛКМ на кнопку вызывается функция Hello\n",
    "btn2.bind(\"<Button-1>\", btn_2_event) #при нажатии колесиком мышки на кнопку вызывается функция Hello\n",
    "btn3.bind(\"<Button-1>\", btn_3_event) #при нажатии ПКМ на кнопку вызывается функция Hello"
   ]
  },
  {
   "cell_type": "code",
   "execution_count": 7,
   "metadata": {},
   "outputs": [],
   "source": [
    "btn1.pack()                    #расположить кнопку на главном окне\n",
    "btn2.pack()\n",
    "btn3.pack()"
   ]
  },
  {
   "cell_type": "code",
   "execution_count": 8,
   "metadata": {},
   "outputs": [
    {
     "name": "stdout",
     "output_type": "stream",
     "text": [
      "ВВОД ПОКАЗАНИЙ\n",
      "КОРРЕКЦИЯ\n",
      "ГРАФИКИ\n"
     ]
    }
   ],
   "source": [
    "root.mainloop()"
   ]
  },
  {
   "cell_type": "code",
   "execution_count": null,
   "metadata": {},
   "outputs": [],
   "source": []
  }
 ],
 "metadata": {
  "kernelspec": {
   "display_name": "Python 3",
   "language": "python",
   "name": "python3"
  },
  "language_info": {
   "codemirror_mode": {
    "name": "ipython",
    "version": 3
   },
   "file_extension": ".py",
   "mimetype": "text/x-python",
   "name": "python",
   "nbconvert_exporter": "python",
   "pygments_lexer": "ipython3",
   "version": "3.7.6"
  }
 },
 "nbformat": 4,
 "nbformat_minor": 4
}
