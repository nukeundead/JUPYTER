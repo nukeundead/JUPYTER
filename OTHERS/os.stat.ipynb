{
 "cells": [
  {
   "cell_type": "code",
   "execution_count": 1,
   "metadata": {},
   "outputs": [],
   "source": [
    "import os\n",
    "import time"
   ]
  },
  {
   "cell_type": "code",
   "execution_count": 3,
   "metadata": {},
   "outputs": [],
   "source": [
    "path = r'H:\\2019-10-07 XPERIA\\100ANDRO\\2019-09-06 18-51-48.mp4'"
   ]
  },
  {
   "cell_type": "code",
   "execution_count": 4,
   "metadata": {},
   "outputs": [
    {
     "name": "stdout",
     "output_type": "stream",
     "text": [
      "Дата создания:\n",
      "2019-10-07 09-17-29\n"
     ]
    }
   ],
   "source": [
    "print('Дата создания:')\n",
    "print(time.strftime('%Y-%m-%d-%H%M%S', time.gmtime(os.stat(path)[9] + 10800)))"
   ]
  },
  {
   "cell_type": "code",
   "execution_count": 5,
   "metadata": {},
   "outputs": [
    {
     "name": "stdout",
     "output_type": "stream",
     "text": [
      "Дата изменения:\n",
      "2019-09-06 18-51-48\n"
     ]
    }
   ],
   "source": [
    "print('Дата изменения:')\n",
    "print(time.strftime('%Y-%m-%d-%H%M%S', time.gmtime(os.stat(path)[8] + 10800)))"
   ]
  },
  {
   "cell_type": "code",
   "execution_count": 7,
   "metadata": {},
   "outputs": [
    {
     "name": "stdout",
     "output_type": "stream",
     "text": [
      "Дата открытия:\n",
      "2020-04-20-135650\n"
     ]
    }
   ],
   "source": [
    "print('Дата открытия:')\n",
    "print(time.strftime('%Y-%m-%d-%H%M%S', time.gmtime(os.stat(path)[7] + 10800)))"
   ]
  },
  {
   "cell_type": "code",
   "execution_count": null,
   "metadata": {},
   "outputs": [],
   "source": []
  }
 ],
 "metadata": {
  "kernelspec": {
   "display_name": "Python 3",
   "language": "python",
   "name": "python3"
  },
  "language_info": {
   "codemirror_mode": {
    "name": "ipython",
    "version": 3
   },
   "file_extension": ".py",
   "mimetype": "text/x-python",
   "name": "python",
   "nbconvert_exporter": "python",
   "pygments_lexer": "ipython3",
   "version": "3.7.6"
  }
 },
 "nbformat": 4,
 "nbformat_minor": 4
}
