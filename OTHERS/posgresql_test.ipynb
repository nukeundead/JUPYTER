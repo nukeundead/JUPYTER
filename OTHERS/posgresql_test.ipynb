{
 "cells": [
  {
   "cell_type": "markdown",
   "metadata": {},
   "source": [
    "# Работа с PostgreSQL в Python\n",
    "https://khashtamov.com/ru/postgresql-python-psycopg2/"
   ]
  },
  {
   "cell_type": "code",
   "execution_count": 1,
   "metadata": {},
   "outputs": [],
   "source": [
    "#pip install psycopg2\n",
    "import psycopg2"
   ]
  },
  {
   "cell_type": "markdown",
   "metadata": {},
   "source": [
    "Для выполнения запроса к базе, необходимо с ней соединиться и получить курсор:"
   ]
  },
  {
   "cell_type": "code",
   "execution_count": 8,
   "metadata": {},
   "outputs": [],
   "source": [
    "conn = psycopg2.connect(dbname='postgres', user='python', \n",
    "                        password='python', host='localhost')\n",
    "cursor = conn.cursor()"
   ]
  },
  {
   "cell_type": "markdown",
   "metadata": {},
   "source": [
    "Через курсор происходит дальнейшее общение в базой."
   ]
  },
  {
   "cell_type": "code",
   "execution_count": 3,
   "metadata": {},
   "outputs": [
    {
     "data": {
      "text/plain": [
       "[('AR', 'Argentina', 2),\n",
       " ('AU', 'Australia', 3),\n",
       " ('BE', 'Belgium', 1),\n",
       " ('BR', 'Brazil', 2),\n",
       " ('CA', 'Canada', 2),\n",
       " ('CH', 'Switzerland', 1),\n",
       " ('CN', 'China', 3),\n",
       " ('DE', 'Germany', 1),\n",
       " ('DK', 'Denmark', 1),\n",
       " ('EG', 'Egypt', 4),\n",
       " ('FR', 'France', 1),\n",
       " ('HK', 'HongKong', 3),\n",
       " ('IL', 'Israel', 4),\n",
       " ('IN', 'India', 3),\n",
       " ('IT', 'Italy', 1),\n",
       " ('JP', 'Japan', 3),\n",
       " ('KW', 'Kuwait', 4),\n",
       " ('MX', 'Mexico', 2),\n",
       " ('NG', 'Nigeria', 4),\n",
       " ('NL', 'Netherlands', 1),\n",
       " ('SG', 'Singapore', 3),\n",
       " ('UK', 'United Kingdom', 1),\n",
       " ('US', 'United States of America', 2),\n",
       " ('ZM', 'Zambia', 4),\n",
       " ('ZW', 'Zimbabwe', 4)]"
      ]
     },
     "execution_count": 3,
     "metadata": {},
     "output_type": "execute_result"
    }
   ],
   "source": [
    "cursor.execute('SELECT * FROM countries')\n",
    "records = cursor.fetchall()\n",
    "records"
   ]
  },
  {
   "cell_type": "markdown",
   "metadata": {},
   "source": [
    "После выполнения запроса, получить результат можно несколькими способами:\n",
    "\n",
    "cursor.fetchone() — возвращает 1 строку\n",
    "\n",
    "cursor.fetchall() — возвращает список всех строк\n",
    "\n",
    "cursor.fetchmany(size=5) — возвращает заданное количество строк\n",
    "\n",
    "Также курсор является итерируемым объектом, поэтому можно так:"
   ]
  },
  {
   "cell_type": "code",
   "execution_count": 4,
   "metadata": {},
   "outputs": [
    {
     "name": "stdout",
     "output_type": "stream",
     "text": [
      "(1, 'Public Accountant', Decimal('4200.00'), Decimal('9000.00'))\n",
      "(2, 'Accounting Manager', Decimal('8200.00'), Decimal('16000.00'))\n",
      "(3, 'Administration Assistant', Decimal('3000.00'), Decimal('6000.00'))\n",
      "(4, 'President', Decimal('20000.00'), Decimal('40000.00'))\n",
      "(5, 'Administration Vice President', Decimal('15000.00'), Decimal('30000.00'))\n",
      "(6, 'Accountant', Decimal('4200.00'), Decimal('9000.00'))\n",
      "(7, 'Finance Manager', Decimal('8200.00'), Decimal('16000.00'))\n",
      "(8, 'Human Resources Representative', Decimal('4000.00'), Decimal('9000.00'))\n",
      "(9, 'Programmer', Decimal('4000.00'), Decimal('10000.00'))\n",
      "(10, 'Marketing Manager', Decimal('9000.00'), Decimal('15000.00'))\n",
      "(11, 'Marketing Representative', Decimal('4000.00'), Decimal('9000.00'))\n",
      "(12, 'Public Relations Representative', Decimal('4500.00'), Decimal('10500.00'))\n",
      "(13, 'Purchasing Clerk', Decimal('2500.00'), Decimal('5500.00'))\n",
      "(14, 'Purchasing Manager', Decimal('8000.00'), Decimal('15000.00'))\n",
      "(15, 'Sales Manager', Decimal('10000.00'), Decimal('20000.00'))\n",
      "(16, 'Sales Representative', Decimal('6000.00'), Decimal('12000.00'))\n",
      "(17, 'Shipping Clerk', Decimal('2500.00'), Decimal('5500.00'))\n",
      "(18, 'Stock Clerk', Decimal('2000.00'), Decimal('5000.00'))\n",
      "(19, 'Stock Manager', Decimal('5500.00'), Decimal('8500.00'))\n"
     ]
    }
   ],
   "source": [
    "cursor.execute('SELECT * FROM jobs')\n",
    "for row in cursor:\n",
    "    print(row)"
   ]
  },
  {
   "cell_type": "markdown",
   "metadata": {},
   "source": [
    "Метод execute вторым аргументом принимает коллекцию (кортеж, список и т.д.) или словарь. При формировании запроса необходимо помнить, что:\n",
    "\n",
    "Плейсхолдеры в строке запроса должны быть %s, даже если тип передаваемого значения отличается от строки, всю работу берёт на себя psycopg2.\n",
    "\n",
    "Не нужно обрамлять строки в одинарные кавычки.\n",
    "\n",
    "Если в запросе присутствует знак %, то его необходимо писать как %%."
   ]
  },
  {
   "cell_type": "code",
   "execution_count": 10,
   "metadata": {},
   "outputs": [],
   "source": [
    "cursor.execute(\"\"\"CREATE TABLE test (param_id SERIAL PRIMARY KEY, param_name CHARACTER VARYING (25)\n",
    ");\"\"\")"
   ]
  },
  {
   "cell_type": "code",
   "execution_count": 11,
   "metadata": {},
   "outputs": [],
   "source": [
    "cursor.close()\n",
    "conn.close()"
   ]
  },
  {
   "cell_type": "code",
   "execution_count": null,
   "metadata": {},
   "outputs": [],
   "source": []
  }
 ],
 "metadata": {
  "kernelspec": {
   "display_name": "Python 3",
   "language": "python",
   "name": "python3"
  },
  "language_info": {
   "codemirror_mode": {
    "name": "ipython",
    "version": 3
   },
   "file_extension": ".py",
   "mimetype": "text/x-python",
   "name": "python",
   "nbconvert_exporter": "python",
   "pygments_lexer": "ipython3",
   "version": "3.7.6"
  }
 },
 "nbformat": 4,
 "nbformat_minor": 4
}
