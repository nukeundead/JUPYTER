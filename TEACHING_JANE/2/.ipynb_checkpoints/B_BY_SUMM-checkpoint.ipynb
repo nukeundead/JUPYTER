{
 "cells": [
  {
   "cell_type": "markdown",
   "metadata": {},
   "source": [
    "# Сдать решение задачи B - Сортировка по сумме цифр\n",
    "* Полный балл: 1000\n",
    "* Штраф за посылку: 1\n",
    "* Ограничение времени: 1 с\n",
    "* Ограничение реального времени: 1 с\n",
    "* Ограничение памяти: 64М\n",
    "\n",
    "Отсортировать массив по сумме цифр входного массива.\n",
    "\n",
    "---\n",
    "# Формат входных данных\n",
    "Натуральное число N. Затем N неотрицательных целых чисел - элементов массива.\n",
    "# Формат выходных данных\n",
    "Нужно вывести N чисел, отсортированные по их сумме цифр. В случае равенства суммы цифр любых двух чисел, вывести отсортированными по абсолютному значению.\n",
    "\n",
    "---\n",
    "# Код"
   ]
  },
  {
   "cell_type": "code",
   "execution_count": 113,
   "metadata": {},
   "outputs": [
    {
     "name": "stdout",
     "output_type": "stream",
     "text": [
      "6\n",
      "[69, 19, 27, 21, 95, 62]\n",
      "[15, 10, 9, 3, 14, 8]\n",
      "\n",
      "[21, 62, 27, 19, 95, 69]\n"
     ]
    }
   ],
   "source": [
    "import random\n",
    "\n",
    "# ОПРЕДЕЛЯЕМ КОЛИЧЕСТВО ЧИСЕЛ\n",
    "N = random.randint(5,8)\n",
    "print(N)\n",
    "\n",
    "# ЗАПОЛНЯЕМ МАССИВ ЧИСЛАМИ\n",
    "Nlist = []\n",
    "for i in range(N):\n",
    "    Nlist.append(random.randint(1,100))\n",
    "print(Nlist)\n",
    "\n",
    "# ВЫЧИСЛЯЕМ СУММЫ ЦИФР\n",
    "Slist = []\n",
    "for item in Nlist:\n",
    "    s = 0\n",
    "    for digit in str(item):\n",
    "        s = s + int(digit)\n",
    "    Slist.append(s)\n",
    "print(Slist)\n",
    "\n",
    "# СОРТИРУЕМ\n",
    "ns_list = Slist\n",
    "r_list = Nlist\n",
    "n = 1\n",
    "while n < len(Slist):\n",
    "    for i in range(len(Slist) - n):\n",
    "        if Slist[i] > Slist[i + 1]:\n",
    "            Nlist[i], Nlist[i + 1] = Nlist[i + 1], Nlist[i]\n",
    "            Slist[i], Slist[i + 1] = Slist[i + 1], Slist[i]\n",
    "            #print(Nlist)\n",
    "        elif Slist[i] == Slist[i + 1]:\n",
    "            if Nlist[i] > Nlist[i + 1]:\n",
    "                Nlist[i], Nlist[i + 1] = Nlist[i + 1], Nlist[i]\n",
    "                Slist[i], Slist[i + 1] = Slist[i + 1], Slist[i]\n",
    "                #print(Nlist)\n",
    "    n += 1\n",
    "print()\n",
    "print(Nlist)"
   ]
  },
  {
   "cell_type": "code",
   "execution_count": null,
   "metadata": {},
   "outputs": [],
   "source": []
  }
 ],
 "metadata": {
  "kernelspec": {
   "display_name": "Python 3",
   "language": "python",
   "name": "python3"
  },
  "language_info": {
   "codemirror_mode": {
    "name": "ipython",
    "version": 3
   },
   "file_extension": ".py",
   "mimetype": "text/x-python",
   "name": "python",
   "nbconvert_exporter": "python",
   "pygments_lexer": "ipython3",
   "version": "3.7.6"
  }
 },
 "nbformat": 4,
 "nbformat_minor": 4
}
