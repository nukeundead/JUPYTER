{
 "cells": [
  {
   "cell_type": "markdown",
   "metadata": {},
   "source": [
    "# Сдать решение задачи F - Поразрядная сортировка\n",
    "* Полный балл: 80\n",
    "* Штраф за посылку: 1\n",
    "* Ограничение времени: 1 с\n",
    "* Ограничение реального времени: 1 с\n",
    "* Ограничение памяти: 64М\n",
    "\n",
    "Написать программу, осуществляющую поразрядную сортировку введённых целых чисел в двоичной системе счисления по возрастанию. **Внимание! Сначала необходимо считать все введённые числа в один список.**\n",
    "\n",
    "---\n",
    "# Формат входных данных\n",
    "Последовательность целых чисел, разделенная символом пробел.\n",
    "# Формат выходных данных\n",
    "Набор расстановок чисел в сортируемом массиве. **Внимание! Надо выводить весь массив после КАЖДОЙ перестановки элементов в нём. Если перестановок не было - ВСЁ РАВНО нужно выводить.**\n",
    "\n",
    "---"
   ]
  },
  {
   "cell_type": "markdown",
   "metadata": {},
   "source": [
    "# Справочные материалы\n",
    "* [Словари (dict) и работа с ними. Методы словарей](https://pythonworld.ru/tipy-dannyx-v-python/slovari-dict-funkcii-i-metody-slovarej.html)\n",
    "* [Сортировки распределением](https://habr.com/ru/company/edison/blog/472466/)\n",
    "\n",
    "\n",
    "*Поразрядная сортировка по младшим разрядам :: LSD radix sort*\n",
    "\n",
    "*Двигаемся от младших разрядов к старшим и на каждой итерации распределяем элементы массива в зависимости от того, какая цифра содержится в разряде.\n",
    "После очередного распределения мы возвращаем элементы в основной массив в том порядке, в котором элементы попали в классы при очередном перераспределении.*\n",
    "\n",
    "![Url](https://hsto.org/webt/xt/ac/qu/xtacqu8pnxiji7ifh82ju8ldiog.gif)"
   ]
  },
  {
   "cell_type": "markdown",
   "metadata": {},
   "source": [
    "---\n",
    "# Код"
   ]
  },
  {
   "cell_type": "code",
   "execution_count": 90,
   "metadata": {},
   "outputs": [
    {
     "name": "stdout",
     "output_type": "stream",
     "text": [
      "5\n",
      "[100, 11, 110, 1, 1]\n",
      "[100, 110, 11, 1, 1]\n",
      "[100, 1, 1, 110, 11]\n",
      "[1, 1, 11, 100, 110]\n"
     ]
    }
   ],
   "source": [
    "import random\n",
    "\n",
    "\n",
    "# ОПРЕДЕЛЯЕМ КОЛИЧЕСТВО ЧИСЕЛ\n",
    "N = random.randint(3,5)\n",
    "print(N)\n",
    "\n",
    "\n",
    "# ПЕРЕВОД ДЕСЯТИЧНЫХ В ДВОИЧНЫЕ\n",
    "def decimalToBinary(n):\n",
    "    return bin(n).replace(\"0b\",\"\")\n",
    "\n",
    "\n",
    "# ЗАПОЛНЯЕМ МАССИВ ЧИСЛАМИ\n",
    "n_list = []\n",
    "for i in range(N):\n",
    "    n_list.append(int(decimalToBinary(random.randint(1,10))))\n",
    "print(n_list)\n",
    "\n",
    "#n_list = [11, 10, 1]\n",
    "\n",
    "length = len(str(max(n_list)))\n",
    "rang = 2\n",
    "for i in range(length):\n",
    "    B = [[] for k in range(rang)] # СПИСОК, СОСТОЯЩИЙ ИЗ ПУСТЫХ СПИСКОВ\n",
    "    for x in n_list:\n",
    "        figure = x // 10**i % 10 #  i-Й РАЗРЯД ЧИСЛА х\n",
    "        B[figure].append(x)\n",
    "        #print(B)\n",
    "    n_list = []\n",
    "    for k in range(rang):\n",
    "        n_list = n_list + B[k]\n",
    "    print(n_list)"
   ]
  },
  {
   "cell_type": "code",
   "execution_count": 86,
   "metadata": {},
   "outputs": [
    {
     "data": {
      "text/plain": [
       "3"
      ]
     },
     "execution_count": 86,
     "metadata": {},
     "output_type": "execute_result"
    }
   ],
   "source": [
    "i = 0\n",
    "123 // 10**i % 10"
   ]
  },
  {
   "cell_type": "code",
   "execution_count": 87,
   "metadata": {},
   "outputs": [
    {
     "data": {
      "text/plain": [
       "2"
      ]
     },
     "execution_count": 87,
     "metadata": {},
     "output_type": "execute_result"
    }
   ],
   "source": [
    "i = 1\n",
    "123 // 10**i % 10"
   ]
  },
  {
   "cell_type": "code",
   "execution_count": 89,
   "metadata": {},
   "outputs": [
    {
     "data": {
      "text/plain": [
       "1"
      ]
     },
     "execution_count": 89,
     "metadata": {},
     "output_type": "execute_result"
    }
   ],
   "source": [
    "i = 2\n",
    "123 // 10**i % 10"
   ]
  }
 ],
 "metadata": {
  "kernelspec": {
   "display_name": "Python 3",
   "language": "python",
   "name": "python3"
  },
  "language_info": {
   "codemirror_mode": {
    "name": "ipython",
    "version": 3
   },
   "file_extension": ".py",
   "mimetype": "text/x-python",
   "name": "python",
   "nbconvert_exporter": "python",
   "pygments_lexer": "ipython3",
   "version": "3.7.6"
  }
 },
 "nbformat": 4,
 "nbformat_minor": 4
}
