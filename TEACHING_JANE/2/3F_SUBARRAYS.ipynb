{
 "cells": [
  {
   "cell_type": "markdown",
   "metadata": {},
   "source": [
    "Используем два указателя начала и конца для поддержания начальной и конечной точки массива и следуем приведенным ниже шагам:\n",
    "Остановись, если достигли конца массива\n",
    "Увеличь индекс конца, если начало стало больше конца\n",
    "Вывести подмассив от начала до конца индекса и увеличить начальный индекс"
   ]
  },
  {
   "cell_type": "code",
   "execution_count": 2,
   "metadata": {},
   "outputs": [],
   "source": [
    "def printSubArrays(arr, start, end):\n",
    "    # Стоп, если мы достигли конца массива\n",
    "    if end == len(arr):\n",
    "        return\n",
    "    # Увеличиваем конечную точку и начинаем с 0\n",
    "    elif start > end:\n",
    "        return printSubArrays(arr, 0, end + 1)\n",
    "    # Распечатать подмассив и увеличить начальный\n",
    "    else:\n",
    "        print(arr[start:end + 1])\n",
    "        return printSubArrays(arr, start + 1, end)"
   ]
  },
  {
   "cell_type": "code",
   "execution_count": 3,
   "metadata": {},
   "outputs": [
    {
     "name": "stdout",
     "output_type": "stream",
     "text": [
      "[1]\n",
      "[1, 2]\n",
      "[2]\n",
      "[1, 2, 3]\n",
      "[2, 3]\n",
      "[3]\n"
     ]
    }
   ],
   "source": [
    "arr = [1, 2, 3]\n",
    "printSubArrays(arr, 0, 0)"
   ]
  },
  {
   "cell_type": "code",
   "execution_count": 4,
   "metadata": {},
   "outputs": [
    {
     "name": "stdout",
     "output_type": "stream",
     "text": [
      "[1]\n",
      "[1, 2]\n",
      "[2]\n",
      "[1, 2, 3]\n",
      "[2, 3]\n",
      "[3]\n",
      "[1, 2, 3, 4]\n",
      "[2, 3, 4]\n",
      "[3, 4]\n",
      "[4]\n",
      "[1, 2, 3, 4, 5]\n",
      "[2, 3, 4, 5]\n",
      "[3, 4, 5]\n",
      "[4, 5]\n",
      "[5]\n"
     ]
    }
   ],
   "source": [
    "arr = [1, 2, 3, 4, 5]\n",
    "printSubArrays(arr, 0, 0)"
   ]
  }
 ],
 "metadata": {
  "kernelspec": {
   "display_name": "Python 3",
   "language": "python",
   "name": "python3"
  },
  "language_info": {
   "codemirror_mode": {
    "name": "ipython",
    "version": 3
   },
   "file_extension": ".py",
   "mimetype": "text/x-python",
   "name": "python",
   "nbconvert_exporter": "python",
   "pygments_lexer": "ipython3",
   "version": "3.7.6"
  }
 },
 "nbformat": 4,
 "nbformat_minor": 4
}
