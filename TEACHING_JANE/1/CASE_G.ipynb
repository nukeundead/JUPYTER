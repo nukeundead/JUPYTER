{
 "cells": [
  {
   "cell_type": "markdown",
   "metadata": {},
   "source": [
    "# Сдать решение задачи G - Какое число встречается в массиве наибольшее число раз\n",
    "* Полный балл: 120\n",
    "* Штраф за посылку: 1\n",
    "* Ограничение времени: 2 с\n",
    "* Ограничение реального времени: 5 с\n",
    "* Ограничение памяти: 64М\n",
    "\n",
    "На вход программе подается массив чисел. Необходимо найти число, которое чаще всего встречается в массиве. Гарантируется, что такое число одно.\n",
    "# Формат входных данных\n",
    "В первой строке задается число N, длина массива, далее идут N чисел - элементы массива. Все числа больше 0 и меньше 100. Каждое число вводится с новой строки.\n",
    "# Формат выходных данных\n",
    "Одно число, которое встречается наибольшее количество раз."
   ]
  },
  {
   "cell_type": "markdown",
   "metadata": {},
   "source": [
    "---\n",
    "# Код"
   ]
  },
  {
   "cell_type": "code",
   "execution_count": 5,
   "metadata": {},
   "outputs": [],
   "source": [
    "def maxn(lst):\n",
    "    max_c = 0\n",
    "    max_n = 999\n",
    "    if show: print(f'set: {set(a)}')\n",
    "    for i in set(a):\n",
    "        c = a.count(i)\n",
    "        if show: print(f'number {i} : count {c}')\n",
    "        if c > max_c:\n",
    "            max_n = i\n",
    "            max_c = c\n",
    "\n",
    "    if show: print(f'\\nmax_c number {max_n} : max count {max_c}\\n')\n",
    "    return print(f'Вывод\\n{max_n}')"
   ]
  },
  {
   "cell_type": "code",
   "execution_count": 1,
   "metadata": {},
   "outputs": [
    {
     "data": {
      "text/plain": [
       "8"
      ]
     },
     "execution_count": 1,
     "metadata": {},
     "output_type": "execute_result"
    }
   ],
   "source": [
    "a = [1,1,2,2,4,5,6,8]\n",
    "\n",
    "a.index(8)\n"
   ]
  },
  {
   "cell_type": "markdown",
   "metadata": {},
   "source": [
    "# Объяснение"
   ]
  },
  {
   "cell_type": "code",
   "execution_count": 6,
   "metadata": {},
   "outputs": [
    {
     "name": "stdout",
     "output_type": "stream",
     "text": [
      "set: {1, 2, 3, 4, 99, 7, 8, 88}\n",
      "number 1 : count 2\n",
      "number 2 : count 2\n",
      "number 3 : count 4\n",
      "number 4 : count 5\n",
      "number 99 : count 1\n",
      "number 7 : count 1\n",
      "number 8 : count 1\n",
      "number 88 : count 8\n",
      "\n",
      "max_c number 88 : max count 8\n",
      "\n",
      "Вывод\n",
      "88\n"
     ]
    }
   ],
   "source": [
    "show = True\n",
    "\n",
    "a = [1, 2, 2, 3, 3, 3, 4, 4, 4, 4, 7, 8, 99, 1, 88, 3, 4, 88, 88, 88, 88, 88, 88, 88]\n",
    "maxn(a)\n",
    "\n",
    "show = False"
   ]
  },
  {
   "cell_type": "markdown",
   "metadata": {},
   "source": [
    "# Примеры"
   ]
  },
  {
   "cell_type": "code",
   "execution_count": 7,
   "metadata": {},
   "outputs": [
    {
     "name": "stdout",
     "output_type": "stream",
     "text": [
      "Вывод\n",
      "5\n"
     ]
    }
   ],
   "source": [
    "a = [4, 5, 5, 2, 5]\n",
    "maxn(a)"
   ]
  },
  {
   "cell_type": "code",
   "execution_count": 9,
   "metadata": {},
   "outputs": [
    {
     "name": "stdin",
     "output_type": "stream",
     "text": [
      "Введите длину массива N:  3\n",
      "Введите элемент массива (1...99): 1\n",
      "Введите элемент массива (1...99): 2\n",
      "Введите элемент массива (1...99): 1\n"
     ]
    },
    {
     "name": "stdout",
     "output_type": "stream",
     "text": [
      "\n",
      "Введенный массив\n",
      "[1, 2, 1]\n",
      "\n",
      "Вывод\n",
      "1\n"
     ]
    }
   ],
   "source": [
    "n = int(input('Введите длину массива N: '))\n",
    "a = []\n",
    "for i in range(n):\n",
    "    m = int(input('Введите элемент массива (1...99):'))\n",
    "    a.append(m)\n",
    "print(f'\\nВведенный массив\\n{a}\\n')\n",
    "maxn(a)"
   ]
  }
 ],
 "metadata": {
  "kernelspec": {
   "display_name": "Python 3",
   "language": "python",
   "name": "python3"
  },
  "language_info": {
   "codemirror_mode": {
    "name": "ipython",
    "version": 3
   },
   "file_extension": ".py",
   "mimetype": "text/x-python",
   "name": "python",
   "nbconvert_exporter": "python",
   "pygments_lexer": "ipython3",
   "version": "3.7.6"
  }
 },
 "nbformat": 4,
 "nbformat_minor": 4
}
