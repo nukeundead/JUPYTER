{
 "cells": [
  {
   "cell_type": "markdown",
   "metadata": {},
   "source": [
    "# Сдать решение задачи E - Поиск локальных экстремумов\n",
    "* Полный балл: 100\n",
    "* Штраф за посылку: 1\n",
    "* Ограничение времени: 1 с\n",
    "* Ограничение реального времени: 1 с\n",
    "* Ограничение памяти: 64М\n",
    "\n",
    "На вход подаётся массив значений функции. Требуется вывести положения (индексы) строгих локальных минимумов и локальных максимумов.\n",
    "\n",
    "---\n",
    "# Формат входных данных\n",
    "Первая строка: N - число элементов в массиве (2 < N < 100000). Вторая строка: N чисел - элементы массива.\n",
    "# Формат выходных данных\n",
    "Все индексы локальных экстремумов одной строкой.\n",
    "\n",
    "---"
   ]
  },
  {
   "cell_type": "markdown",
   "metadata": {},
   "source": [
    "# Справочные материалы\n",
    "* [Списки (list). Функции и методы списков](https://pythonworld.ru/tipy-dannyx-v-python/spiski-list-funkcii-i-metody-spiskov.html)\n",
    "* [Модуль math стандартной библиотеки](https://pythonworld.ru/moduli/modul-math.html)\n",
    "* [Модуль random](https://pythonworld.ru/moduli/modul-random.html)"
   ]
  },
  {
   "cell_type": "markdown",
   "metadata": {},
   "source": [
    "---\n",
    "# Код"
   ]
  },
  {
   "cell_type": "code",
   "execution_count": 5,
   "metadata": {},
   "outputs": [],
   "source": [
    "def abs(n):\n",
    "    if n < 0:\n",
    "        r = n * (-1)\n",
    "    else:\n",
    "        r = n\n",
    "    return r\n",
    "\n",
    "\n",
    "def join(a):\n",
    "    rez = []\n",
    "    s = ''\n",
    "    for item in a:\n",
    "        if s == '':\n",
    "            s = s + str(item)\n",
    "        else:\n",
    "            s = s + ' ' + str(item)\n",
    "    return s\n",
    "\n",
    "\n",
    "def ext(lst):\n",
    "    l = len(lst)\n",
    "    e = [0]\n",
    "    rez = []\n",
    "    l = len(m)\n",
    "    for j in range(l):\n",
    "        if j > 0:\n",
    "            d = lst[j] - lst[j-1]\n",
    "            if d != 0:\n",
    "                d = int(d / abs(d))\n",
    "            e.append(d)\n",
    "            if e[len(e)-1] == e[len(e) - 2] * (-1):\n",
    "                rez.append(j-1)\n",
    "#    rez = ' '.join(str(x) for x in rez)\n",
    "    rez = join(rez)\n",
    "#    lst = ' '.join(str(x) for x in lst)\n",
    "    lst = join(lst)\n",
    "    if show:\n",
    "        return print(f'{lst}\\n{e}\\n{rez}')\n",
    "    else:\n",
    "        return print(f'Ввод\\n{l}\\n{lst}\\n\\nВывод\\n{rez}')"
   ]
  },
  {
   "cell_type": "markdown",
   "metadata": {},
   "source": [
    "# Объяснение"
   ]
  },
  {
   "cell_type": "code",
   "execution_count": 6,
   "metadata": {},
   "outputs": [
    {
     "name": "stdout",
     "output_type": "stream",
     "text": [
      "l: 14\n",
      "2 3 2 5 7 7 4 9 1 1 5 8 3 1\n",
      "[0, 1, -1, 1, 1, 0, -1, 1, -1, 0, 1, 1, -1, -1]\n",
      "1 2 6 7 11\n"
     ]
    }
   ],
   "source": [
    "show = True\n",
    "\n",
    "import random\n",
    "\n",
    "l = random.randint(3, 19)\n",
    "print(f'l: {l}')\n",
    "m = []\n",
    "for i in range(l):\n",
    "    m.append(random.randint(1, 10))\n",
    "\n",
    "ext(m)\n",
    "\n",
    "show = False"
   ]
  },
  {
   "cell_type": "markdown",
   "metadata": {},
   "source": [
    "# Примеры"
   ]
  },
  {
   "cell_type": "code",
   "execution_count": 6,
   "metadata": {},
   "outputs": [
    {
     "name": "stdout",
     "output_type": "stream",
     "text": [
      "Ввод\n",
      "3\n",
      "1 2 0\n",
      "\n",
      "Вывод\n",
      "1\n"
     ]
    }
   ],
   "source": [
    "m = [1, 2, 0]\n",
    "ext(m)"
   ]
  },
  {
   "cell_type": "code",
   "execution_count": 7,
   "metadata": {},
   "outputs": [
    {
     "name": "stdout",
     "output_type": "stream",
     "text": [
      "Ввод\n",
      "6\n",
      "1 2 4 1 5 3\n",
      "\n",
      "Вывод\n",
      "2 3 4\n"
     ]
    }
   ],
   "source": [
    "m = [1, 2, 4, 1, 5, 3]\n",
    "ext(m)"
   ]
  },
  {
   "cell_type": "code",
   "execution_count": null,
   "metadata": {},
   "outputs": [],
   "source": []
  }
 ],
 "metadata": {
  "kernelspec": {
   "display_name": "Python 3",
   "language": "python",
   "name": "python3"
  },
  "language_info": {
   "codemirror_mode": {
    "name": "ipython",
    "version": 3
   },
   "file_extension": ".py",
   "mimetype": "text/x-python",
   "name": "python",
   "nbconvert_exporter": "python",
   "pygments_lexer": "ipython3",
   "version": "3.7.6"
  }
 },
 "nbformat": 4,
 "nbformat_minor": 4
}
