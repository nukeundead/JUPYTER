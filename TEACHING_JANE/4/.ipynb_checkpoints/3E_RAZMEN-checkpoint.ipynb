{
 "cells": [
  {
   "cell_type": "code",
   "execution_count": 7,
   "metadata": {},
   "outputs": [],
   "source": [
    "def make_exchange(ammount, coins):\n",
    "    print(ammount, coins)\n",
    "    if ammount < 0 or coins == []:\n",
    "        return 0\n",
    "    coins.sort()\n",
    "    if ammount == 0:\n",
    "        return 1\n",
    "    \n",
    "    n = make_exchange(ammount - max(coins), coins) + make_exchange(ammount, coins[:-1])\n",
    "    print(n)\n",
    "    return n"
   ]
  },
  {
   "cell_type": "code",
   "execution_count": 8,
   "metadata": {},
   "outputs": [
    {
     "name": "stdout",
     "output_type": "stream",
     "text": [
      "2 [1, 2]\n",
      "0 [1, 2]\n",
      "2 [1]\n",
      "1 [1]\n",
      "0 [1]\n",
      "1 []\n",
      "1\n",
      "2 []\n",
      "1\n",
      "2\n"
     ]
    },
    {
     "data": {
      "text/plain": [
       "2"
      ]
     },
     "execution_count": 8,
     "metadata": {},
     "output_type": "execute_result"
    }
   ],
   "source": [
    "make_exchange(2, [1, 2])"
   ]
  },
  {
   "cell_type": "code",
   "execution_count": 9,
   "metadata": {},
   "outputs": [
    {
     "name": "stdout",
     "output_type": "stream",
     "text": [
      "0 [1, 2]\n"
     ]
    },
    {
     "data": {
      "text/plain": [
       "1"
      ]
     },
     "execution_count": 9,
     "metadata": {},
     "output_type": "execute_result"
    }
   ],
   "source": [
    "#make_exchange(ammount - max(coins), coins)\n",
    "#если ты отняла от суммы монету наибольшего номинала и сумма стала равна нулю, то ты уже разменяла заданную сумму одной монетой старшего номинала)\n",
    "make_exchange(0, [1, 2])"
   ]
  },
  {
   "cell_type": "code",
   "execution_count": 14,
   "metadata": {},
   "outputs": [
    {
     "data": {
      "text/plain": [
       "[1]"
      ]
     },
     "execution_count": 14,
     "metadata": {},
     "output_type": "execute_result"
    }
   ],
   "source": [
    "#напоминание как работают срезы [:-1] - значит все элементы списка до последнего (индекс -1)\n",
    "a = [1, 2]\n",
    "a[:-1]"
   ]
  },
  {
   "cell_type": "code",
   "execution_count": 15,
   "metadata": {},
   "outputs": [
    {
     "data": {
      "text/plain": [
       "[1]"
      ]
     },
     "execution_count": 15,
     "metadata": {},
     "output_type": "execute_result"
    }
   ],
   "source": [
    "[1,2][:-1]"
   ]
  },
  {
   "cell_type": "code",
   "execution_count": 17,
   "metadata": {},
   "outputs": [
    {
     "data": {
      "text/plain": [
       "[]"
      ]
     },
     "execution_count": 17,
     "metadata": {},
     "output_type": "execute_result"
    }
   ],
   "source": [
    "[1][:-1]"
   ]
  },
  {
   "cell_type": "code",
   "execution_count": 12,
   "metadata": {},
   "outputs": [
    {
     "name": "stdout",
     "output_type": "stream",
     "text": [
      "2 [1]\n",
      "1 [1]\n",
      "0 [1]\n",
      "1 []\n",
      "1\n",
      "2 []\n",
      "1\n"
     ]
    },
    {
     "data": {
      "text/plain": [
       "1"
      ]
     },
     "execution_count": 12,
     "metadata": {},
     "output_type": "execute_result"
    }
   ],
   "source": [
    "#make_exchange(ammount, coins[:-1])\n",
    "make_exchange(2, [1])"
   ]
  },
  {
   "cell_type": "code",
   "execution_count": 16,
   "metadata": {},
   "outputs": [
    {
     "name": "stdout",
     "output_type": "stream",
     "text": [
      "1 [1]\n",
      "0 [1]\n",
      "1 []\n",
      "1\n"
     ]
    },
    {
     "data": {
      "text/plain": [
       "1"
      ]
     },
     "execution_count": 16,
     "metadata": {},
     "output_type": "execute_result"
    }
   ],
   "source": [
    "#тут рождается еще одно ветвление рекурсии\n",
    "#make_exchange(ammount - max(coins), coins)\n",
    "make_exchange(2-1, [1])"
   ]
  },
  {
   "cell_type": "code",
   "execution_count": 18,
   "metadata": {},
   "outputs": [
    {
     "name": "stdout",
     "output_type": "stream",
     "text": [
      "2 []\n"
     ]
    },
    {
     "data": {
      "text/plain": [
       "0"
      ]
     },
     "execution_count": 18,
     "metadata": {},
     "output_type": "execute_result"
    }
   ],
   "source": [
    "#make_exchange(ammount, coins[:-1])\n",
    "make_exchange(2, [])"
   ]
  },
  {
   "cell_type": "code",
   "execution_count": 5,
   "metadata": {},
   "outputs": [
    {
     "name": "stdout",
     "output_type": "stream",
     "text": [
      "4 [1, 2]\n",
      "2 [1, 2]\n",
      "0 [1, 2]\n",
      "2 [1]\n",
      "1 [1]\n",
      "0 [1]\n",
      "1 []\n",
      "2 []\n",
      "4 [1]\n",
      "3 [1]\n",
      "2 [1]\n",
      "1 [1]\n",
      "0 [1]\n",
      "1 []\n",
      "2 []\n",
      "3 []\n",
      "4 []\n"
     ]
    },
    {
     "data": {
      "text/plain": [
       "3"
      ]
     },
     "execution_count": 5,
     "metadata": {},
     "output_type": "execute_result"
    }
   ],
   "source": [
    "make_exchange(4, [1, 2])"
   ]
  },
  {
   "cell_type": "code",
   "execution_count": 13,
   "metadata": {},
   "outputs": [
    {
     "name": "stdout",
     "output_type": "stream",
     "text": [
      "2 [1, 2]\n",
      "0 [1, 2]\n",
      "2 [1]\n",
      "1 [1]\n",
      "0 [1]\n",
      "1 []\n",
      "1\n",
      "2 []\n",
      "1\n",
      "2\n"
     ]
    },
    {
     "data": {
      "text/plain": [
       "2"
      ]
     },
     "execution_count": 13,
     "metadata": {},
     "output_type": "execute_result"
    }
   ],
   "source": [
    "#make_exchange(ammount - max(coins), coins)\n",
    "make_exchange(2, [1, 2])"
   ]
  },
  {
   "cell_type": "code",
   "execution_count": 6,
   "metadata": {},
   "outputs": [
    {
     "name": "stdout",
     "output_type": "stream",
     "text": [
      "10 [5, 2, 3]\n",
      "5 [2, 3, 5]\n",
      "0 [2, 3, 5]\n",
      "5 [2, 3]\n",
      "2 [2, 3]\n",
      "-1 [2, 3]\n",
      "2 [2]\n",
      "0 [2]\n",
      "2 []\n",
      "5 [2]\n",
      "3 [2]\n",
      "1 [2]\n",
      "-1 [2]\n",
      "1 []\n",
      "3 []\n",
      "5 []\n",
      "10 [2, 3]\n",
      "7 [2, 3]\n",
      "4 [2, 3]\n",
      "1 [2, 3]\n",
      "-2 [2, 3]\n",
      "1 [2]\n",
      "-1 [2]\n",
      "1 []\n",
      "4 [2]\n",
      "2 [2]\n",
      "0 [2]\n",
      "2 []\n",
      "4 []\n",
      "7 [2]\n",
      "5 [2]\n",
      "3 [2]\n",
      "1 [2]\n",
      "-1 [2]\n",
      "1 []\n",
      "3 []\n",
      "5 []\n",
      "7 []\n",
      "10 [2]\n",
      "8 [2]\n",
      "6 [2]\n",
      "4 [2]\n",
      "2 [2]\n",
      "0 [2]\n",
      "2 []\n",
      "4 []\n",
      "6 []\n",
      "8 []\n",
      "10 []\n"
     ]
    },
    {
     "data": {
      "text/plain": [
       "4"
      ]
     },
     "execution_count": 6,
     "metadata": {},
     "output_type": "execute_result"
    }
   ],
   "source": [
    "make_exchange(10, [5, 2, 3])"
   ]
  },
  {
   "cell_type": "code",
   "execution_count": null,
   "metadata": {},
   "outputs": [],
   "source": []
  }
 ],
 "metadata": {
  "kernelspec": {
   "display_name": "Python 3",
   "language": "python",
   "name": "python3"
  },
  "language_info": {
   "codemirror_mode": {
    "name": "ipython",
    "version": 3
   },
   "file_extension": ".py",
   "mimetype": "text/x-python",
   "name": "python",
   "nbconvert_exporter": "python",
   "pygments_lexer": "ipython3",
   "version": "3.7.6"
  }
 },
 "nbformat": 4,
 "nbformat_minor": 4
}
