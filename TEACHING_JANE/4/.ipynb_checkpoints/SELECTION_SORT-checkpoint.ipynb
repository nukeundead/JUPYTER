{
 "cells": [
  {
   "cell_type": "code",
   "execution_count": null,
   "metadata": {},
   "outputs": [],
   "source": [
    "a=input().split()\n",
    "n_list = []\n",
    "for i in a:\n",
    "    n_list.append(int(i))"
   ]
  },
  {
   "cell_type": "code",
   "execution_count": 6,
   "metadata": {},
   "outputs": [],
   "source": [
    "def fmin(l_list):\n",
    "    mn=l_list[0]\n",
    "    for i in l_list:\n",
    "        if i<mn:\n",
    "            mn=i\n",
    "    return mn"
   ]
  },
  {
   "cell_type": "code",
   "execution_count": 11,
   "metadata": {},
   "outputs": [],
   "source": [
    "def selection_sort(array):\n",
    "    print(' '.join(str(x) for x in array))\n",
    "    for i in range(len(array) - 1):\n",
    "        mn = min(array[i:len(array)])\n",
    "        mn_i = array.index(mn)\n",
    "        array[i], array[mn_i] = array[mn_i], array[i]\n",
    "        print(' '.join(str(x) for x in array))"
   ]
  },
  {
   "cell_type": "code",
   "execution_count": 3,
   "metadata": {},
   "outputs": [
    {
     "name": "stdout",
     "output_type": "stream",
     "text": [
      "3 1 -1 2\n",
      "-1 1 3 2\n",
      "-1 1 3 2\n",
      "-1 1 2 3\n"
     ]
    }
   ],
   "source": [
    "n_list = [3, 1, -1, 2]\n",
    "selection_sort(n_list)"
   ]
  },
  {
   "cell_type": "code",
   "execution_count": 4,
   "metadata": {},
   "outputs": [
    {
     "name": "stdout",
     "output_type": "stream",
     "text": [
      "1 3 2 2 -1\n",
      "-1 3 2 2 1\n",
      "-1 1 2 2 3\n",
      "-1 1 2 2 3\n",
      "-1 1 2 2 3\n"
     ]
    }
   ],
   "source": [
    "n_list = [1, 3, 2, 2, -1]\n",
    "selection_sort(n_list)"
   ]
  },
  {
   "cell_type": "code",
   "execution_count": 8,
   "metadata": {},
   "outputs": [
    {
     "name": "stdout",
     "output_type": "stream",
     "text": [
      "3 1 -1 2\n",
      "-1 1 3 2\n",
      "-1 1 3 2\n",
      "-1 1 2 3\n"
     ]
    }
   ],
   "source": [
    "n_list = [3, 1, -1, 2]\n",
    "selection_sort(n_list)"
   ]
  },
  {
   "cell_type": "code",
   "execution_count": 9,
   "metadata": {},
   "outputs": [
    {
     "name": "stdout",
     "output_type": "stream",
     "text": [
      "1 3 2 2 -1\n",
      "-1 3 2 2 1\n",
      "-1 1 2 2 3\n",
      "-1 1 2 2 3\n",
      "-1 1 2 2 3\n"
     ]
    }
   ],
   "source": [
    "n_list = [1, 3, 2, 2, -1]\n",
    "selection_sort(n_list)"
   ]
  },
  {
   "cell_type": "code",
   "execution_count": 12,
   "metadata": {},
   "outputs": [
    {
     "name": "stdout",
     "output_type": "stream",
     "text": [
      "94 499 -536 -796 42 -921 863 50 76 -180 273 -796\n",
      "-921 499 -536 -796 42 94 863 50 76 -180 273 -796\n",
      "-921 -796 -536 499 42 94 863 50 76 -180 273 -796\n",
      "-921 -536 -796 499 42 94 863 50 76 -180 273 -796\n",
      "-921 -536 499 -796 42 94 863 50 76 -180 273 -796\n",
      "-921 -536 499 42 -796 94 863 50 76 -180 273 -796\n",
      "-921 -536 499 42 94 -796 863 50 76 -180 273 -796\n",
      "-921 -536 499 42 94 863 -796 50 76 -180 273 -796\n",
      "-921 -536 499 42 94 863 50 -796 76 -180 273 -796\n",
      "-921 -536 499 42 94 863 50 76 -796 -180 273 -796\n",
      "-921 -536 499 42 94 863 50 76 -180 -796 273 -796\n",
      "-921 -536 499 42 94 863 50 76 -180 273 -796 -796\n"
     ]
    }
   ],
   "source": [
    "n_list = [94, 499, -536, -796, 42, -921, 863, 50, 76, -180, 273, -796]\n",
    "selection_sort(n_list)"
   ]
  },
  {
   "cell_type": "code",
   "execution_count": 23,
   "metadata": {},
   "outputs": [],
   "source": [
    "def selectionsort(array):\n",
    "    #print(array[0:len(array) - 1])\n",
    "    for i in range(0, len(array) - 1):\n",
    "        smallest = i\n",
    "        #print(array[i+1:len(array)])\n",
    "        for j in range(i + 1, len(array)):\n",
    "            if array[j] < array[smallest]:\n",
    "                smallest = j\n",
    "        array[i], array[smallest] = array[smallest], array[i]\n",
    "        print(' '.join(str(x) for x in array))"
   ]
  },
  {
   "cell_type": "code",
   "execution_count": 24,
   "metadata": {},
   "outputs": [
    {
     "name": "stdout",
     "output_type": "stream",
     "text": [
      "-921 499 -536 -796 42 94 863 50 76 -180 273 -796\n",
      "-921 -796 -536 499 42 94 863 50 76 -180 273 -796\n",
      "-921 -796 -796 499 42 94 863 50 76 -180 273 -536\n",
      "-921 -796 -796 -536 42 94 863 50 76 -180 273 499\n",
      "-921 -796 -796 -536 -180 94 863 50 76 42 273 499\n",
      "-921 -796 -796 -536 -180 42 863 50 76 94 273 499\n",
      "-921 -796 -796 -536 -180 42 50 863 76 94 273 499\n",
      "-921 -796 -796 -536 -180 42 50 76 863 94 273 499\n",
      "-921 -796 -796 -536 -180 42 50 76 94 863 273 499\n",
      "-921 -796 -796 -536 -180 42 50 76 94 273 863 499\n",
      "-921 -796 -796 -536 -180 42 50 76 94 273 499 863\n"
     ]
    }
   ],
   "source": [
    "n_list = [94, 499, -536, -796, 42, -921, 863, 50, 76, -180, 273, -796]\n",
    "selectionsort(n_list)"
   ]
  },
  {
   "cell_type": "code",
   "execution_count": null,
   "metadata": {},
   "outputs": [],
   "source": []
  }
 ],
 "metadata": {
  "kernelspec": {
   "display_name": "Python 3",
   "language": "python",
   "name": "python3"
  },
  "language_info": {
   "codemirror_mode": {
    "name": "ipython",
    "version": 3
   },
   "file_extension": ".py",
   "mimetype": "text/x-python",
   "name": "python",
   "nbconvert_exporter": "python",
   "pygments_lexer": "ipython3",
   "version": "3.7.6"
  }
 },
 "nbformat": 4,
 "nbformat_minor": 4
}
