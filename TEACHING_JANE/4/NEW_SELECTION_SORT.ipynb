{
 "cells": [
  {
   "cell_type": "code",
   "execution_count": 1,
   "metadata": {},
   "outputs": [],
   "source": [
    "def selection_sort(array):\n",
    "    #print(array[0:len(array) - 1])\n",
    "    for i in range(0, len(array) - 1):\n",
    "        smallest = i\n",
    "        #print(array[i+1:len(array)])\n",
    "        for j in range(i + 1, len(array)):\n",
    "            if array[j] < array[smallest]:\n",
    "                smallest = j\n",
    "        array[i], array[smallest] = array[smallest], array[i]\n",
    "        print(' '.join(str(x) for x in array))"
   ]
  },
  {
   "cell_type": "code",
   "execution_count": 2,
   "metadata": {},
   "outputs": [
    {
     "name": "stdout",
     "output_type": "stream",
     "text": [
      "-921 499 -536 -796 42 94 863 50 76 -180 273 -796\n",
      "-921 -796 -536 499 42 94 863 50 76 -180 273 -796\n",
      "-921 -796 -796 499 42 94 863 50 76 -180 273 -536\n",
      "-921 -796 -796 -536 42 94 863 50 76 -180 273 499\n",
      "-921 -796 -796 -536 -180 94 863 50 76 42 273 499\n",
      "-921 -796 -796 -536 -180 42 863 50 76 94 273 499\n",
      "-921 -796 -796 -536 -180 42 50 863 76 94 273 499\n",
      "-921 -796 -796 -536 -180 42 50 76 863 94 273 499\n",
      "-921 -796 -796 -536 -180 42 50 76 94 863 273 499\n",
      "-921 -796 -796 -536 -180 42 50 76 94 273 863 499\n",
      "-921 -796 -796 -536 -180 42 50 76 94 273 499 863\n"
     ]
    }
   ],
   "source": [
    "n_list = [94, 499, -536, -796, 42, -921, 863, 50, 76, -180, 273, -796]\n",
    "selection_sort(n_list)"
   ]
  },
  {
   "cell_type": "code",
   "execution_count": null,
   "metadata": {},
   "outputs": [],
   "source": []
  }
 ],
 "metadata": {
  "kernelspec": {
   "display_name": "Python 3",
   "language": "python",
   "name": "python3"
  },
  "language_info": {
   "codemirror_mode": {
    "name": "ipython",
    "version": 3
   },
   "file_extension": ".py",
   "mimetype": "text/x-python",
   "name": "python",
   "nbconvert_exporter": "python",
   "pygments_lexer": "ipython3",
   "version": "3.7.6"
  }
 },
 "nbformat": 4,
 "nbformat_minor": 4
}
