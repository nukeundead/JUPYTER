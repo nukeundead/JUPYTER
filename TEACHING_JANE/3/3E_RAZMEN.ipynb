{
 "cells": [
  {
   "cell_type": "code",
   "execution_count": 19,
   "metadata": {},
   "outputs": [],
   "source": [
    "def make_exchange(money, coins):\n",
    "    #количество способов собрать сумму\n",
    "    ways_of_doing_change = [0] * (money + 1)\n",
    "    #Для начала мы начнем с отсутствия номиналов, имея лишь один вариант — собрать сумму 0,\n",
    "    #затем мы будем добавлять по одному номиналу, по возрастанию, и одновременно редактировать наш массив с учетом новых номиналов.\n",
    "    ways_of_doing_change[0] = 1\n",
    "    #Количество новых вариантов, которыми мы можем сделать сумму higher_amount с учетом нового номинала монеты coin,\n",
    "    #вычисляется как уже существующее значение ways_of_doing_n_cents[higher_amount - coin].\n",
    "    #Нам уже известны все комбинации с предыдущими номиналами,\n",
    "    #поэтому мы используем эту информацию при добавлении нового номинала.\n",
    "    #При добавлении первого номинала, мы считаем, что предыдущий номинал равен 0.\n",
    "    for coin in coins:\n",
    "        for higher_amount in range(coin, money + 1):\n",
    "            #остаток\n",
    "            higher_amount_remainder = higher_amount - coin\n",
    "            ways_of_doing_change[higher_amount] += ways_of_doing_change[higher_amount_remainder]\n",
    "            #print(f'coin: {coin} higher_amount: {higher_amount} higher_amount_remainder: {higher_amount_remainder} ways_of_doing_change: {ways_of_doing_change}')\n",
    "\n",
    "    return ways_of_doing_change[money]"
   ]
  },
  {
   "cell_type": "code",
   "execution_count": 20,
   "metadata": {},
   "outputs": [
    {
     "data": {
      "text/plain": [
       "2"
      ]
     },
     "execution_count": 20,
     "metadata": {},
     "output_type": "execute_result"
    }
   ],
   "source": [
    "make_exchange(2, [1, 2])"
   ]
  },
  {
   "cell_type": "code",
   "execution_count": 21,
   "metadata": {},
   "outputs": [
    {
     "data": {
      "text/plain": [
       "3"
      ]
     },
     "execution_count": 21,
     "metadata": {},
     "output_type": "execute_result"
    }
   ],
   "source": [
    "make_exchange(4, [1, 2])"
   ]
  },
  {
   "cell_type": "code",
   "execution_count": 22,
   "metadata": {},
   "outputs": [
    {
     "data": {
      "text/plain": [
       "4"
      ]
     },
     "execution_count": 22,
     "metadata": {},
     "output_type": "execute_result"
    }
   ],
   "source": [
    "make_exchange(10, [5, 2, 3])"
   ]
  }
 ],
 "metadata": {
  "kernelspec": {
   "display_name": "Python 3",
   "language": "python",
   "name": "python3"
  },
  "language_info": {
   "codemirror_mode": {
    "name": "ipython",
    "version": 3
   },
   "file_extension": ".py",
   "mimetype": "text/x-python",
   "name": "python",
   "nbconvert_exporter": "python",
   "pygments_lexer": "ipython3",
   "version": "3.7.6"
  }
 },
 "nbformat": 4,
 "nbformat_minor": 4
}
