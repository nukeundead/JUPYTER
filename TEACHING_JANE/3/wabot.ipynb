{
 "cells": [
  {
   "cell_type": "code",
   "execution_count": 1,
   "metadata": {},
   "outputs": [],
   "source": [
    "import json\n",
    "import requests\n",
    "import datetime"
   ]
  },
  {
   "cell_type": "code",
   "execution_count": 3,
   "metadata": {},
   "outputs": [],
   "source": [
    "class WABot():\n",
    "    def __init__(self, json):\n",
    "        self.json = json\n",
    "        self.dict_messages = json['messages']\n",
    "        self.APIUrl = 'https://eu41.chat-api.com/instance12345/'\n",
    "        self.token = 'abcdefg'"
   ]
  },
  {
   "cell_type": "code",
   "execution_count": 4,
   "metadata": {},
   "outputs": [],
   "source": [
    "def send_requests(self, method, data):\n",
    "    url = f\"{self.APIUrl}{method}?token={self.token}\"\n",
    "    headers = {'Content-type': 'application/json'}\n",
    "    answer = requests.post(url, data=json.dumps(data), headers=headers)\n",
    "    return answer.json()"
   ]
  },
  {
   "cell_type": "code",
   "execution_count": 5,
   "metadata": {},
   "outputs": [],
   "source": [
    "def send_message(self, chatId, text):\n",
    "    data = {\"chatId\" : chatId, \"body\" : text}\n",
    "    answer = self.send_requests('sendMessage', data)\n",
    "    return answer"
   ]
  },
  {
   "cell_type": "code",
   "execution_count": null,
   "metadata": {},
   "outputs": [],
   "source": []
  }
 ],
 "metadata": {
  "kernelspec": {
   "display_name": "Python 3",
   "language": "python",
   "name": "python3"
  },
  "language_info": {
   "codemirror_mode": {
    "name": "ipython",
    "version": 3
   },
   "file_extension": ".py",
   "mimetype": "text/x-python",
   "name": "python",
   "nbconvert_exporter": "python",
   "pygments_lexer": "ipython3",
   "version": "3.7.6"
  }
 },
 "nbformat": 4,
 "nbformat_minor": 4
}
