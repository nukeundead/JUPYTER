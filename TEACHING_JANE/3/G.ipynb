{
 "cells": [
  {
   "cell_type": "code",
   "execution_count": null,
   "metadata": {},
   "outputs": [],
   "source": [
    "https://www.cyberforum.ru/turbo-pascal/thread549321.html"
   ]
  },
  {
   "cell_type": "code",
   "execution_count": 14,
   "metadata": {},
   "outputs": [
    {
     "data": {
      "text/plain": [
       "[[0, 0, 0, 0, 0, 0, 0, 0],\n",
       " [0, 0, 0, 0, 0, 0, 0, 0],\n",
       " [0, 0, 0, 0, 0, 0, 0, 0],\n",
       " [0, 0, 0, 0, 0, 0, 0, 0],\n",
       " [0, 0, 0, 0, 0, 0, 0, 0],\n",
       " [0, 0, 0, 0, 0, 0, 0, 0],\n",
       " [0, 0, 0, 0, 0, 0, 0, 0],\n",
       " [0, 0, 0, 0, 0, 0, 0, 0]]"
      ]
     },
     "execution_count": 14,
     "metadata": {},
     "output_type": "execute_result"
    }
   ],
   "source": [
    "desc = []\n",
    "for j in range(8):\n",
    "    for i in range(8):\n",
    "        if i == 0:\n",
    "            temp = []\n",
    "        temp.append(0)\n",
    "    desc.append(temp)\n",
    "desc"
   ]
  },
  {
   "cell_type": "code",
   "execution_count": 36,
   "metadata": {},
   "outputs": [],
   "source": [
    "start = [4, 4]\n",
    "end = [6, 5]"
   ]
  },
  {
   "cell_type": "code",
   "execution_count": 16,
   "metadata": {},
   "outputs": [
    {
     "data": {
      "text/plain": [
       "[[0, 0, 0, 0, 0, 0, 0, 0],\n",
       " [0, 0, 0, 0, 0, 0, 0, 0],\n",
       " [0, 0, 0, 0, 0, 0, 0, 0],\n",
       " [0, 0, 0, 0, 0, 0, 0, 0],\n",
       " [0, 0, 0, 0, 1, 0, 0, 0],\n",
       " [0, 0, 0, 0, 0, 2, 0, 0],\n",
       " [0, 0, 0, 0, 0, 0, 0, 0],\n",
       " [0, 0, 0, 0, 0, 0, 0, 0]]"
      ]
     },
     "execution_count": 16,
     "metadata": {},
     "output_type": "execute_result"
    }
   ],
   "source": [
    "desc[start[0]][start[1]] = 1\n",
    "desc[end[0]][end[1]] = 2\n",
    "desc"
   ]
  },
  {
   "cell_type": "code",
   "execution_count": 23,
   "metadata": {},
   "outputs": [],
   "source": []
  },
  {
   "cell_type": "code",
   "execution_count": 150,
   "metadata": {},
   "outputs": [],
   "source": [
    "checked_cells = []\n",
    "next_cells = []\n",
    "\n",
    "\n",
    "def horse_step(start, end, step):\n",
    "    checked_cells.append(start)\n",
    "    hs_array = [-2, -1, 1, 2]\n",
    "    step += 1\n",
    "    print('\\n')\n",
    "    print(step)\n",
    "    if step > 2:\n",
    "        return -1\n",
    "    else:\n",
    "        for r in hs_array[:]:\n",
    "            for c in hs_array[::-1]:\n",
    "                if abs(r) != abs(c):\n",
    "                    next_cell = [start[0] + r, start[1] + c]\n",
    "                    if (next_cell not in  checked_cells) and (next_cell[0] >= 0) and (next_cell[1] >= 0) and (next_cell[0] <= 7) and (next_cell[1] <= 7):\n",
    "                        next_cells.append(next_cell)\n",
    "                        checked_cells.append(next_cell)\n",
    "                        print(f'step: {step}, start: {start}, next: {next_cell}, next_cells : {next_cells}')\n",
    "                        if next_cell == end:\n",
    "                            return step\n",
    "    new_starts = next_cells\n",
    "    for cell in new_starts:\n",
    "        if horse_step(cell, end, step) == -1:\n",
    "            break\n",
    "            return -1"
   ]
  },
  {
   "cell_type": "code",
   "execution_count": null,
   "metadata": {},
   "outputs": [],
   "source": [
    "start = [0, 0]\n",
    "end = [4, 2]\n",
    "horse_step(start, end, 0)"
   ]
  },
  {
   "cell_type": "code",
   "execution_count": 158,
   "metadata": {},
   "outputs": [],
   "source": [
    "checked_cells = []\n",
    "next_cells = []\n",
    "def horse_step2(start, end, step):\n",
    "    step += 1\n",
    "    if step > 2:\n",
    "        return -1\n",
    "    else:\n",
    "        return \n",
    "        for r in hs_array[:]:\n",
    "            for c in hs_array[::-1]:\n",
    "                if abs(r) != abs(c):\n",
    "                    next_cell = [start[0] + r, start[1] + c]\n",
    "                    if (next_cell not in  checked_cells) and (next_cell[0] >= 0) and (next_cell[1] >= 0) and (next_cell[0] <= 7) and (next_cell[1] <= 7):\n",
    "                        next_cells.append(next_cell)\n",
    "                        checked_cells.append(next_cell)\n",
    "                        print(f'step: {step}, start: {start}, next: {next_cell}, next_cells : {next_cells}')\n",
    "                        if next_cell == end:\n",
    "                            return step\n",
    "        for cell in next_cells:\n",
    "            horse_step2(cell, end, step)"
   ]
  },
  {
   "cell_type": "code",
   "execution_count": 159,
   "metadata": {},
   "outputs": [],
   "source": [
    "start = [0, 0]\n",
    "end = [4, 2]\n",
    "horse_step2(start, end, 0)"
   ]
  },
  {
   "cell_type": "code",
   "execution_count": null,
   "metadata": {},
   "outputs": [],
   "source": [
    "def horse_step3(start, end, step):\n",
    "    step += 1\n",
    "    if step > 2:\n",
    "        return -1\n",
    "    else:\n",
    "        next_cells = []\n",
    "        checked_cells = [start]\n",
    "        for r in hs_array[:]:\n",
    "            for c in hs_array[::-1]:\n",
    "                if abs(r) != abs(c):\n",
    "                    next_cell = [start[0] + r, start[1] + c]\n",
    "                    if (next_cell not in  checked_cells) and (next_cell[0] >= 0) and (next_cell[1] >= 0) and (next_cell[0] <= 7) and (next_cell[1] <= 7):\n",
    "                        next_cells.append(next_cell)\n",
    "                        checked_cells.append(next_cell)\n",
    "                        print(f'step: {step}, start: {start}, next: {next_cell}, next_cells : {next_cells}')\n",
    "                        if next_cell == end:\n",
    "                            return step\n",
    "    else:\n",
    "        for cell in start:\n",
    "            horse_step3(cell, end, step)\n",
    "     "
   ]
  },
  {
   "cell_type": "code",
   "execution_count": null,
   "metadata": {},
   "outputs": [],
   "source": [
    "def next_move(i, j):\n",
    "    arr = []\n",
    "\n",
    "    for dx, dy in moves:\n",
    "        x = i + dx\n",
    "        y = j + dy\n",
    "\n",
    "        if 0 <= x <= 7 and 0 <= y <= 7 and [x, y] not in arr:\n",
    "            arr.append([x, y])\n",
    "\n",
    "    return arr"
   ]
  },
  {
   "cell_type": "code",
   "execution_count": 165,
   "metadata": {},
   "outputs": [],
   "source": []
  },
  {
   "cell_type": "code",
   "execution_count": 291,
   "metadata": {},
   "outputs": [
    {
     "name": "stdout",
     "output_type": "stream",
     "text": [
      "\n",
      "start: [0, 0] depth: 3 step: 1 [[0, 0], [1, 2], [2, 1]]\n",
      "\n",
      "start: [1, 2] depth: 2 step: 2 [[0, 0], [1, 2], [2, 1], [2, 4], [2, 0], [0, 4], [3, 3], [3, 1]]\n",
      "\n",
      "start: [2, 1] depth: 2 step: 2 [[0, 0], [1, 2], [2, 1], [2, 4], [2, 0], [0, 4], [3, 3], [3, 1], [1, 3], [4, 2], [4, 0], [0, 2]]\n"
     ]
    },
    {
     "data": {
      "text/plain": [
       "3"
      ]
     },
     "execution_count": 291,
     "metadata": {},
     "output_type": "execute_result"
    }
   ],
   "source": [
    "#возмодные ходы коня\n",
    "moves=[[1,2],[1,-2],[-1,2],[-1,-2], [2,1],[2,-1],[-2,1],[-2,-1]]\n",
    "globalArr = []\n",
    "visited = []\n",
    "checked = []\n",
    "\n",
    "\n",
    "def CalculateMoves(depth, i, j, end, step):\n",
    "    step += 1\n",
    "    \n",
    "    if step > 2:\n",
    "        return -1\n",
    "\n",
    "    if [i, j] not in visited:\n",
    "        visited.append([i, j])\n",
    "\n",
    "    if [i, j] not in globalArr:\n",
    "        globalArr.append([i, j])\n",
    "    \n",
    "    arr = GetNextMoves(i, j)\n",
    "    \n",
    "    for item in arr:\n",
    "        if item != end:\n",
    "            checked.append(item)\n",
    "        if item not in globalArr:\n",
    "            globalArr.append(item)\n",
    "    \n",
    "    print(f'\\nstart: {[i, j]} depth: {depth} step: {step} {globalArr}')\n",
    "    \n",
    "    if end in globalArr:\n",
    "        return str(depth)#1,2\n",
    "    \n",
    "    if depth > 1:\n",
    "        for move in arr:\n",
    "            if move not in visited:\n",
    "                CalculateMoves(depth - 1, move[0], move[1], end, step)\n",
    "    else:\n",
    "        for item in arr:\n",
    "            if item not in globalArr:\n",
    "                globalArr.append(item)\n",
    "    \n",
    "    if end in globalArr:\n",
    "        return depth #4,2\n",
    "    else:\n",
    "        return -1\n",
    "\n",
    "\n",
    "#возвращает массив возможных следующих ходов\n",
    "def GetNextMoves(i, j):\n",
    "    arr = []\n",
    "    for dx, dy in moves:\n",
    "        x = i + dx\n",
    "        y = j + dy\n",
    "        if 0 <= x <= 7 and 0 <= y <= 7 and [x, y] not in arr:\n",
    "            arr.append([x, y])\n",
    "    return arr\n",
    "\n",
    "\n",
    "CalculateMoves(3, 0, 0, [4, 2], 0)\n",
    "#print(globalArr)"
   ]
  },
  {
   "cell_type": "code",
   "execution_count": 347,
   "metadata": {},
   "outputs": [
    {
     "name": "stdout",
     "output_type": "stream",
     "text": [
      "\n",
      " [0, 0] 0\n",
      "\n",
      " [1, 2] 1\n",
      "\n",
      " [2, 4] 2\n",
      "\n",
      " [3, 6] 3\n",
      "\n",
      " [3, 2] 4\n",
      "\n",
      " [1, 6] 5\n",
      "\n",
      " [4, 5] 6\n",
      "\n",
      " [4, 3] 7\n",
      "\n",
      " [0, 5] 8\n",
      "\n",
      " [0, 3] 9\n",
      "\n",
      " [2, 0] 3\n",
      "\n",
      " [0, 4] 4\n",
      "\n",
      " [3, 3] 5\n",
      "\n",
      " [3, 1] 6\n",
      "\n",
      " [2, 1] 2\n"
     ]
    }
   ],
   "source": [
    "#возмодные ходы коня\n",
    "moves=[[1,2],[1,-2],[-1,2],[-1,-2], [2,1],[2,-1],[-2,1],[-2,-1]]\n",
    "\n",
    "#возвращает массив возможных следующих ходов\n",
    "def GetNextMoves(i, j):\n",
    "    arr = []\n",
    "    for dx, dy in moves:\n",
    "        x = i + dx\n",
    "        y = j + dy\n",
    "        if 0 <= x <= 7 and 0 <= y <= 7 and [x, y] not in arr:\n",
    "            arr.append([x, y])\n",
    "    return arr\n",
    "\n",
    "\n",
    "visited_cells = []\n",
    "to_visit = []\n",
    "\n",
    "def horse_step(start, end, step):\n",
    "    print('\\n', start, step)\n",
    "    if step > 2:\n",
    "        return -1\n",
    "    else:\n",
    "        if start == end:\n",
    "            print(step)\n",
    "            return step\n",
    "        else:\n",
    "            visited_cells.append(start)\n",
    "            next_moves = GetNextMoves(start[0], start[1])\n",
    "            if end in next_moves:\n",
    "                step += 1\n",
    "                return step\n",
    "            else:\n",
    "                for cell in next_moves:\n",
    "                    if cell not in to_visit and cell not in visited_cells:\n",
    "                        to_visit.append(cell)\n",
    "                        step += 1\n",
    "                        horse_step(cell, end, step)\n",
    "\n",
    "\n",
    "\n",
    "horse_step([0, 0], [4, 2], 0)"
   ]
  },
  {
   "cell_type": "code",
   "execution_count": 298,
   "metadata": {},
   "outputs": [
    {
     "name": "stdout",
     "output_type": "stream",
     "text": [
      "not int and not list\n"
     ]
    }
   ],
   "source": [
    "a = [0, 0]\n",
    "a = ''\n",
    "if type(a) is int:\n",
    "    print('int')\n",
    "elif type(a) is list:\n",
    "    print('list')\n",
    "else:\n",
    "    print('not int and not list')"
   ]
  },
  {
   "cell_type": "code",
   "execution_count": 365,
   "metadata": {},
   "outputs": [
    {
     "name": "stdout",
     "output_type": "stream",
     "text": [
      "-1\n"
     ]
    }
   ],
   "source": [
    "#возмодные ходы коня\n",
    "moves=[[1,2],[1,-2],[-1,2],[-1,-2], [2,1],[2,-1],[-2,1],[-2,-1]]\n",
    "\n",
    "#возвращает массив возможных следующих ходов\n",
    "def GetNextMoves(i, j):\n",
    "    arr = []\n",
    "    for dx, dy in moves:\n",
    "        x = i + dx\n",
    "        y = j + dy\n",
    "        if 1 <= x <= 8 and 1 <= y <= 8 and [x, y] not in arr:\n",
    "            arr.append([x, y])\n",
    "    return arr\n",
    "\n",
    "\n",
    "def horse_step(start, end, step):\n",
    "    if step == 0:\n",
    "        posible_moves = GetNextMoves(start[0], start[1])\n",
    "        if end in posible_moves:\n",
    "            step += 1\n",
    "            return step\n",
    "        else:\n",
    "            step += 1\n",
    "            horse_step(posible_moves, end, step)\n",
    "    else:\n",
    "        posible_moves = []\n",
    "        for cell in start:\n",
    "            for item in GetNextMoves(cell[0], cell[1]):\n",
    "                posible_moves.append(item)\n",
    "        if end in posible_moves:\n",
    "            print(step)\n",
    "        else:\n",
    "            print(-1)\n",
    "        \n",
    "\n",
    "\n",
    "horse_step([1, 1], [8, 8], 0)"
   ]
  },
  {
   "cell_type": "code",
   "execution_count": null,
   "metadata": {},
   "outputs": [],
   "source": [
    "def horse(start, end):\n",
    "    dx = abs(end[0] - start[0])\n",
    "    dy = abs(end[1] - start[1])\n",
    "    if (dx > 2 and dy > 4) or (dx > 4 and dy > 2):\n",
    "        return -1\n",
    "    elif"
   ]
  },
  {
   "cell_type": "code",
   "execution_count": 366,
   "metadata": {},
   "outputs": [
    {
     "data": {
      "text/plain": [
       "[1, 1, 2, 3]"
      ]
     },
     "execution_count": 366,
     "metadata": {},
     "output_type": "execute_result"
    }
   ],
   "source": [
    "[1, 1] + [2, 3]"
   ]
  },
  {
   "cell_type": "code",
   "execution_count": 368,
   "metadata": {},
   "outputs": [],
   "source": [
    "def GetNextMoves(i, j):\n",
    "    arr = []\n",
    "    for dx, dy in moves:\n",
    "        x = i + dx\n",
    "        y = j + dy\n",
    "        if 1 <= x <= 8 and 1 <= y <= 8 and [x, y] not in arr:\n",
    "            arr.append([x, y])\n",
    "    return arr"
   ]
  },
  {
   "cell_type": "code",
   "execution_count": 372,
   "metadata": {},
   "outputs": [
    {
     "data": {
      "text/plain": [
       "[[6, 7], [6, 3], [4, 7], [4, 3], [7, 6], [7, 4], [3, 6], [3, 4]]"
      ]
     },
     "execution_count": 372,
     "metadata": {},
     "output_type": "execute_result"
    }
   ],
   "source": [
    "GetNextMoves(5, 5)"
   ]
  },
  {
   "cell_type": "code",
   "execution_count": 373,
   "metadata": {},
   "outputs": [
    {
     "data": {
      "text/plain": [
       "[[7, 5], [5, 5], [8, 8], [8, 6], [4, 8], [4, 6]]"
      ]
     },
     "execution_count": 373,
     "metadata": {},
     "output_type": "execute_result"
    }
   ],
   "source": [
    "GetNextMoves(6, 7)"
   ]
  },
  {
   "cell_type": "code",
   "execution_count": 371,
   "metadata": {},
   "outputs": [
    {
     "data": {
      "text/plain": [
       "[[4, 4], [2, 4], [5, 3], [5, 1], [1, 3], [1, 1]]"
      ]
     },
     "execution_count": 371,
     "metadata": {},
     "output_type": "execute_result"
    }
   ],
   "source": [
    "GetNextMoves(3, 2)"
   ]
  },
  {
   "cell_type": "code",
   "execution_count": null,
   "metadata": {},
   "outputs": [],
   "source": []
  }
 ],
 "metadata": {
  "kernelspec": {
   "display_name": "Python 3",
   "language": "python",
   "name": "python3"
  },
  "language_info": {
   "codemirror_mode": {
    "name": "ipython",
    "version": 3
   },
   "file_extension": ".py",
   "mimetype": "text/x-python",
   "name": "python",
   "nbconvert_exporter": "python",
   "pygments_lexer": "ipython3",
   "version": "3.7.6"
  }
 },
 "nbformat": 4,
 "nbformat_minor": 4
}
